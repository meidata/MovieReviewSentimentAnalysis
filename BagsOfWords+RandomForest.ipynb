{
 "cells": [
  {
   "cell_type": "code",
   "execution_count": 2,
   "metadata": {
    "collapsed": true
   },
   "outputs": [],
   "source": [
    "import re \n",
    "import csv\n",
    "import json\n",
    "import nltk\n",
    "import sklearn\n",
    "import pandas as pd\n",
    "from pprint import pprint\n",
    "from bs4 import BeautifulSoup "
   ]
  },
  {
   "cell_type": "markdown",
   "metadata": {},
   "source": [
    "\n",
    "### Read data from json file and Merge them into Pandas Data Frame\n"
   ]
  },
  {
   "cell_type": "code",
   "execution_count": 26,
   "metadata": {
    "collapsed": false
   },
   "outputs": [],
   "source": [
    "with open('drama_pos_reviews_100.json') as json_data:\n",
    "    posReviewsDrama = json.load(json_data)\n",
    "    \n",
    "with open('drama_neg_reviews_100.json') as json_data:\n",
    "    negReviewsDrama = json.load(json_data)\n",
    "    \n",
    "with open('action_love_reviews_100.json') as json_data:\n",
    "    posReviewsAction = json.load(json_data)\n",
    "    \n",
    "with open('action_hate_reviews_100.json') as json_data:\n",
    "    negReviewsAction  = json.load(json_data) "
   ]
  },
  {
   "cell_type": "code",
   "execution_count": 3,
   "metadata": {
    "collapsed": false
   },
   "outputs": [],
   "source": [
    "with open('action_love_reviews_100.json') as json_data:\n",
    "    posReviewsAction = json.load(json_data)"
   ]
  },
  {
   "cell_type": "code",
   "execution_count": 5,
   "metadata": {
    "collapsed": false
   },
   "outputs": [
    {
     "data": {
      "text/plain": [
       "0"
      ]
     },
     "execution_count": 5,
     "metadata": {},
     "output_type": "execute_result"
    }
   ],
   "source": [
    "len(posReviewsAction)"
   ]
  },
  {
   "cell_type": "code",
   "execution_count": 74,
   "metadata": {
    "collapsed": false
   },
   "outputs": [],
   "source": [
    "posReList = []\n",
    "for reviewlist in posReviewsDrama:\n",
    "    if reviewlist is not None:\n",
    "        for review in reviewlist:\n",
    "            posReList.append([review['author'],review['review'],review['categorie'],review['movie']])\n",
    "            \n",
    "posReviews = pd.DataFrame(posReList,columns=['id', 'reviews', 'sentiment','movie'])"
   ]
  },
  {
   "cell_type": "code",
   "execution_count": 79,
   "metadata": {
    "collapsed": false
   },
   "outputs": [],
   "source": [
    "negReList = []\n",
    "for reviewlist in  negReviewsAction:\n",
    "    if reviewlist is not None:\n",
    "        for review in reviewlist:\n",
    "            negReList.append([review['author'],review['review'],review['categorie'],review['movie']])\n",
    "            \n",
    "negReviews = pd.DataFrame(negReList,columns=['id', 'reviews', 'sentiment','movie'])"
   ]
  },
  {
   "cell_type": "code",
   "execution_count": 59,
   "metadata": {
    "collapsed": false
   },
   "outputs": [
    {
     "name": "stdout",
     "output_type": "stream",
     "text": [
      "(20564, 4)\n",
      "(20680, 4)\n"
     ]
    }
   ],
   "source": [
    "print(posReviews.shape)\n",
    "print(negReviews.shape)"
   ]
  },
  {
   "cell_type": "markdown",
   "metadata": {},
   "source": [
    "### Text Cleaning and Text Prepocessing\n",
    "\n",
    "+ Convert the words to lower case\n",
    "+ Remove punctuation / Remove Numbers (Any non-letters one)\n",
    "  NB: emoji could be uesd to analysis sentiment as well in the case\n",
    "+ Remove stopwords\n",
    "+ Steaming words \n",
    "+ Split the words"
   ]
  },
  {
   "cell_type": "code",
   "execution_count": 42,
   "metadata": {
    "collapsed": false
   },
   "outputs": [],
   "source": [
    "posReviews['reviews'] = posReviews['reviews'].str.lower()"
   ]
  },
  {
   "cell_type": "code",
   "execution_count": 64,
   "metadata": {
    "collapsed": false
   },
   "outputs": [
    {
     "name": "stdout",
     "output_type": "stream",
     "text": [
      "Empty DataFrame\n",
      "Columns: [id, reviews, sentiment, movie]\n",
      "Index: []\n"
     ]
    }
   ],
   "source": [
    "print(posReviews.loc[posReviews['id']=='ur1046460',])"
   ]
  },
  {
   "cell_type": "code",
   "execution_count": 82,
   "metadata": {
    "collapsed": false
   },
   "outputs": [
    {
     "name": "stdout",
     "output_type": "stream",
     "text": [
      "             id                                            reviews sentiment  \\\n",
      "381  ur47295305  If you love fast paced action, where the hero ...  negative   \n",
      "382  ur47295305  If you love fast paced action, where the hero ...  negative   \n",
      "\n",
      "         movie  \n",
      "381  tt2911666  \n",
      "382  tt2911666  \n"
     ]
    }
   ],
   "source": [
    "print(negReviews.loc[negReviews['id']=='ur47295305',])"
   ]
  },
  {
   "cell_type": "code",
   "execution_count": 80,
   "metadata": {
    "collapsed": false
   },
   "outputs": [
    {
     "data": {
      "text/html": [
       "<div>\n",
       "<table border=\"1\" class=\"dataframe\">\n",
       "  <thead>\n",
       "    <tr style=\"text-align: right;\">\n",
       "      <th></th>\n",
       "      <th>id</th>\n",
       "      <th>reviews</th>\n",
       "      <th>sentiment</th>\n",
       "      <th>movie</th>\n",
       "    </tr>\n",
       "  </thead>\n",
       "  <tbody>\n",
       "    <tr>\n",
       "      <th>300</th>\n",
       "      <td>ur62513246</td>\n",
       "      <td>This movie clearly wants to be in the original...</td>\n",
       "      <td>negative</td>\n",
       "      <td>tt2911666</td>\n",
       "    </tr>\n",
       "    <tr>\n",
       "      <th>382</th>\n",
       "      <td>ur47295305</td>\n",
       "      <td>If you love fast paced action, where the hero ...</td>\n",
       "      <td>negative</td>\n",
       "      <td>tt2911666</td>\n",
       "    </tr>\n",
       "    <tr>\n",
       "      <th>703</th>\n",
       "      <td>ur45239062</td>\n",
       "      <td>I don't watch a lot of TV but I went to a frie...</td>\n",
       "      <td>negative</td>\n",
       "      <td>tt3107288</td>\n",
       "    </tr>\n",
       "    <tr>\n",
       "      <th>998</th>\n",
       "      <td>ur28788765</td>\n",
       "      <td>After seeing the 8.1 score and reading some re...</td>\n",
       "      <td>negative</td>\n",
       "      <td>tt2193021</td>\n",
       "    </tr>\n",
       "    <tr>\n",
       "      <th>2491</th>\n",
       "      <td>ur26240657</td>\n",
       "      <td>SUICIDE SQUAD - My plan for today was to watch...</td>\n",
       "      <td>negative</td>\n",
       "      <td>tt1386697</td>\n",
       "    </tr>\n",
       "    <tr>\n",
       "      <th>3078</th>\n",
       "      <td>ur1406466</td>\n",
       "      <td>And lo, did Disney acquire the rights to argua...</td>\n",
       "      <td>negative</td>\n",
       "      <td>tt3748528</td>\n",
       "    </tr>\n",
       "  </tbody>\n",
       "</table>\n",
       "</div>"
      ],
      "text/plain": [
       "              id                                            reviews sentiment  \\\n",
       "300   ur62513246  This movie clearly wants to be in the original...  negative   \n",
       "382   ur47295305  If you love fast paced action, where the hero ...  negative   \n",
       "703   ur45239062  I don't watch a lot of TV but I went to a frie...  negative   \n",
       "998   ur28788765  After seeing the 8.1 score and reading some re...  negative   \n",
       "2491  ur26240657  SUICIDE SQUAD - My plan for today was to watch...  negative   \n",
       "3078   ur1406466  And lo, did Disney acquire the rights to argua...  negative   \n",
       "\n",
       "          movie  \n",
       "300   tt2911666  \n",
       "382   tt2911666  \n",
       "703   tt3107288  \n",
       "998   tt2193021  \n",
       "2491  tt1386697  \n",
       "3078  tt3748528  "
      ]
     },
     "execution_count": 80,
     "metadata": {},
     "output_type": "execute_result"
    }
   ],
   "source": [
    "negReviews[negReviews.duplicated()]"
   ]
  },
  {
   "cell_type": "code",
   "execution_count": null,
   "metadata": {
    "collapsed": true
   },
   "outputs": [],
   "source": []
  }
 ],
 "metadata": {
  "anaconda-cloud": {},
  "kernelspec": {
   "display_name": "Python [conda root]",
   "language": "python",
   "name": "conda-root-py"
  },
  "language_info": {
   "codemirror_mode": {
    "name": "ipython",
    "version": 3
   },
   "file_extension": ".py",
   "mimetype": "text/x-python",
   "name": "python",
   "nbconvert_exporter": "python",
   "pygments_lexer": "ipython3",
   "version": "3.5.2"
  }
 },
 "nbformat": 4,
 "nbformat_minor": 1
}
