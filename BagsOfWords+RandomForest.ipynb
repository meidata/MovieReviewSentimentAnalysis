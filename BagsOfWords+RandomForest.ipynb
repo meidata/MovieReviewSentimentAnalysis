{
 "cells": [
  {
   "cell_type": "code",
   "execution_count": 3,
   "metadata": {
    "collapsed": false
   },
   "outputs": [],
   "source": [
    "import re \n",
    "import csv\n",
    "import json\n",
    "import nltk\n",
    "import sklearn\n",
    "import pandas as pd\n",
    "from pprint import pprint\n",
    "from bs4 import BeautifulSoup \n",
    "import matplotlib.pyplot as plt\n",
    "pd.set_option(\"display.max_colwidth\",-1)\n",
    "\n",
    "def rescue_code(function):\n",
    "    import inspect\n",
    "    get_ipython().set_next_input(\"\".join(inspect.getsourcelines(function)[0]))\n",
    "    \n",
    "def tic():\n",
    "    #Homemade version of matlab tic and toc functions\n",
    "    import time\n",
    "    global startTime_for_tictoc\n",
    "    startTime_for_tictoc = time.time()\n",
    "\n",
    "def toc():\n",
    "    import time\n",
    "    if 'startTime_for_tictoc' in globals():\n",
    "        print(\"Elapsed time is \" + str(time.time() - startTime_for_tictoc) + \" seconds.\")\n",
    "    else:\n",
    "        print(\"Toc: start time not set\")\n",
    "        \n",
    "        \n"
   ]
  },
  {
   "cell_type": "markdown",
   "metadata": {},
   "source": [
    "\n",
    "### Read data from json file and Merge them into Pandas Data Frame\n"
   ]
  },
  {
   "cell_type": "code",
   "execution_count": 4,
   "metadata": {
    "collapsed": false
   },
   "outputs": [],
   "source": [
    "with open('drama_love_reviews_100.json') as json_data:\n",
    "    posReviewsDrama = json.load(json_data)\n",
    "    \n",
    "with open('drama_hate_reviews_100.json') as json_data:\n",
    "    negReviewsDrama = json.load(json_data)\n",
    "    \n",
    "with open('action_love_reviews_100.json') as json_data:\n",
    "    posReviewsAction = json.load(json_data)\n",
    "    \n",
    "with open('action_hate_reviews_100.json') as json_data:\n",
    "    negReviewsAction  = json.load(json_data)\n",
    "    \n",
    "with open('horror_hate_reviews_100.json') as json_data:\n",
    "    negReviewsHorror  = json.load(json_data) \n",
    "    \n",
    "with open('horror_love_reviews_100.json') as json_data:\n",
    "    posReviewsHorror  = json.load(json_data) \n",
    "    \n",
    "with open('romance_hate_reviews_100.json') as json_data:\n",
    "    negReviewsRomance  = json.load(json_data)     \n",
    "    \n",
    "with open('romance_love_reviews_100.json') as json_data:\n",
    "    posReviewsRomance  = json.load(json_data) \n",
    "    \n",
    "with open('Sci-Fi_love_reviews_100.json') as json_data:\n",
    "    posReviewsSci  = json.load(json_data) \n",
    "    \n",
    "with open('Sci-Fi_hate_reviews_100.json') as json_data:\n",
    "    negReviewsSci  = json.load(json_data) "
   ]
  },
  {
   "cell_type": "code",
   "execution_count": 5,
   "metadata": {
    "collapsed": false
   },
   "outputs": [],
   "source": [
    "posReList = []\n",
    "for reviewlist in posReviewsDrama + posReviewsHorror + posReviewsAction + posReviewsSci + posReviewsRomance:\n",
    "    if reviewlist is not None:\n",
    "        for review in reviewlist:\n",
    "            posReList.append([review['review'],review['categorie']])\n",
    "            \n",
    "posReviews = pd.DataFrame(posReList,columns=['reviews', 'sentiment'])\n",
    "posReviews = posReviews.drop_duplicates()\n",
    "\n",
    "negReList = []\n",
    "for reviewlist in  negReviewsAction + negReviewsHorror +negReviewsDrama +negReviewsRomance + negReviewsSci:\n",
    "    if reviewlist is not None:\n",
    "        for review in reviewlist:\n",
    "            negReList.append([review['review'],review['categorie']])\n",
    "            \n",
    "negReviews = pd.DataFrame(negReList,columns=['reviews', 'sentiment'])\n",
    "negReviews = negReviews.drop_duplicates()\n",
    "\n"
   ]
  },
  {
   "cell_type": "code",
   "execution_count": 6,
   "metadata": {
    "collapsed": false
   },
   "outputs": [
    {
     "name": "stdout",
     "output_type": "stream",
     "text": [
      "(25819, 2)\n",
      "(22866, 2)\n"
     ]
    }
   ],
   "source": [
    "print(posReviews.shape)\n",
    "print(negReviews.shape)"
   ]
  },
  {
   "cell_type": "code",
   "execution_count": 7,
   "metadata": {
    "collapsed": false
   },
   "outputs": [
    {
     "name": "stdout",
     "output_type": "stream",
     "text": [
      "(34079, 3)\n",
      "(14606, 3)\n"
     ]
    }
   ],
   "source": [
    "from sklearn.model_selection import train_test_split\n",
    "\n",
    "pos_train, pos_test = train_test_split(posReviews, test_size = 0.3)\n",
    "neg_train, neg_test = train_test_split(negReviews, test_size = 0.3)\n",
    "\n",
    "train = pos_train.append(neg_train, ignore_index=True)\n",
    "test = pos_test.append(neg_test, ignore_index=True)\n",
    "\n",
    "train = train.reset_index(drop=True)\n",
    "train['id'] = train.index\n",
    "\n",
    "\n",
    "test = test.reset_index(drop=True)\n",
    "test['id'] = test.index\n",
    "\n",
    "print(train.shape)\n",
    "print(test.shape)"
   ]
  },
  {
   "cell_type": "markdown",
   "metadata": {},
   "source": [
    "### Text Cleaning and Text Prepocessing\n",
    "\n",
    "+ Convert the words to lower case\n",
    "+ Remove punctuation / Remove Numbers (Any non-letters one)\n",
    "  NB: emoji could be uesd to analysis sentiment as well in the case\n",
    "+ Remove stopwords\n",
    "+ Steaming words \n",
    "+ Split the words"
   ]
  },
  {
   "cell_type": "code",
   "execution_count": 17,
   "metadata": {
    "collapsed": false
   },
   "outputs": [],
   "source": [
    "#train['reviews'] = train['reviews'].apply(lambda x : x.lower())\n",
    "#test['reviews'] = test['reviews'].apply(lambda x : x.lower())\n",
    "#re.sub(\"[^a-zA-Z]\",' ',train.ix[0,'reviews'])\n",
    "\n",
    "def textPrepocess(movieReviews):\n",
    "    movieReviews = movieReviews.lower()\n",
    "    movieReviews = re.sub(\"[^a-zA-Z]\",' ',movieReviews)\n",
    "    movieReviews = (\" \".join(movieReviews.split()))\n",
    "    return movieReviews\n",
    "\n",
    "train['reviews'] = train['reviews'].apply(textPrepocess)\n",
    "test['reviews'] = test['reviews'].apply(textPrepocess)"
   ]
  },
  {
   "cell_type": "markdown",
   "metadata": {},
   "source": [
    "Now that we have our training reviews tidied up, how do we convert them to some kind of numeric representation for machine learning? One common approach is called a Bag of Words. The Bag of Words model learns a vocabulary from all of the documents, then models each document by counting the number of times each word appears. For example, consider the following two sentences:"
   ]
  },
  {
   "cell_type": "markdown",
   "metadata": {},
   "source": [
    "1. Titles :             no titles\n",
    "2. Features Extraction: CountVectorizer()\n",
    "3. Stopwords :          Not remove\n",
    "4. Classifier :         Randomforest\n",
    "5. N-gram:              (1,1)"
   ]
  },
  {
   "cell_type": "code",
   "execution_count": 9,
   "metadata": {
    "collapsed": false
   },
   "outputs": [
    {
     "name": "stdout",
     "output_type": "stream",
     "text": [
      "Elapsed time is 936.9531109333038 seconds.\n",
      "             precision    recall  f1-score   support\n",
      "\n",
      "    postive       0.80      0.69      0.74      6860\n",
      "   negative       0.75      0.85      0.80      7746\n",
      "\n",
      "avg / total       0.78      0.77      0.77     14606\n",
      "\n"
     ]
    }
   ],
   "source": [
    "# word| CountVectorizer|random forest 100|min_df=1\n",
    "from sklearn.feature_extraction.text import CountVectorizer\n",
    "vectorizer = CountVectorizer(analyzer = \"word\" ,min_df=1)\n",
    "train_features = vectorizer.fit_transform(train['reviews'])\n",
    "train_features = train_features.toarray()\n",
    "vocabulary = vectorizer.get_feature_names()\n",
    "\n",
    "tic()\n",
    "from sklearn.ensemble import RandomForestClassifier\n",
    "\n",
    "# Initialize a Random Forest classifier with 100 trees\n",
    "forest_100 = RandomForestClassifier(n_estimators = 100) \n",
    "\n",
    "test_features = vectorizer.transform(test['reviews'])\n",
    "test_features = test_features.toarray()\n",
    "\n",
    "# Use the random forest to make sentiment label predictions\n",
    "# Fit the forest to the training set, using the bag of words as \n",
    "# features and the sentiment labels as the response variable\n",
    "#\n",
    "# This may take a few minutes to run\n",
    "forest_100 = forest_100.fit(train_features, train[\"sentiment\"])\n",
    "result = forest_100.predict(test_features)\n",
    "toc()\n",
    "\n",
    "from sklearn.metrics import classification_report\n",
    "\n",
    "target_names = ['postive', 'negative']\n",
    "print(classification_report(test['sentiment'], result, target_names=target_names))\n"
   ]
  },
  {
   "cell_type": "code",
   "execution_count": 13,
   "metadata": {
    "collapsed": false
   },
   "outputs": [
    {
     "name": "stdout",
     "output_type": "stream",
     "text": [
      "             precision    recall  f1-score   support\n",
      "\n",
      "    postive       0.79      0.70      0.74      6860\n",
      "   negative       0.76      0.83      0.79      7746\n",
      "\n",
      "avg / total       0.77      0.77      0.77     14606\n",
      "\n"
     ]
    }
   ],
   "source": [
    "# word| CountVectorizer|random forest 100|min_df=5\n",
    "from sklearn.feature_extraction.text import CountVectorizer\n",
    "vectorizer_mindf_5 = CountVectorizer(analyzer = \"word\" ,min_df=5)\n",
    "train_features = vectorizer_mindf_5.fit_transform(train['reviews'])\n",
    "train_features = train_features.toarray()\n",
    "vocabulary = vectorizer_mindf_5.get_feature_names()\n",
    "\n",
    "tic()\n",
    "from sklearn.ensemble import RandomForestClassifier\n",
    "\n",
    "# Initialize a Random Forest classifier with 100 trees\n",
    "forest_100 = RandomForestClassifier(n_estimators = 100) \n",
    "\n",
    "test_features = vectorizer_mindf_5.transform(test['reviews'])\n",
    "test_features = test_features.toarray()\n",
    "\n",
    "# Use the random forest to make sentiment label predictions\n",
    "# Fit the forest to the training set, using the bag of words as \n",
    "# features and the sentiment labels as the response variable\n",
    "#\n",
    "# This may take a few minutes to run\n",
    "forest_100 = forest_100.fit(train_features, train[\"sentiment\"])\n",
    "result_100_mindf_5 = forest_100.predict(test_features)\n",
    "toc()\n",
    "\n",
    "\n",
    "from sklearn.metrics import classification_report\n",
    "\n",
    "target_names = ['postive', 'negative']\n",
    "print(classification_report(test['sentiment'], result_100_mindf_5, target_names=target_names))\n"
   ]
  },
  {
   "cell_type": "code",
   "execution_count": 8,
   "metadata": {
    "collapsed": false
   },
   "outputs": [
    {
     "name": "stdout",
     "output_type": "stream",
     "text": [
      "             precision    recall  f1-score   support\n",
      "\n",
      "    postive       0.82      0.69      0.75      6860\n",
      "   negative       0.76      0.87      0.81      7746\n",
      "\n",
      "avg / total       0.79      0.78      0.78     14606\n",
      "\n",
      "Elapsed time is 4244.149746179581 seconds.\n"
     ]
    }
   ],
   "source": [
    "# word| CountVectorizer|random forest 200|min_df=1\n",
    "from sklearn.feature_extraction.text import CountVectorizer\n",
    "vectorizer = CountVectorizer(analyzer = \"word\" ,min_df=1)\n",
    "train_features = vectorizer.fit_transform(train['reviews'])\n",
    "train_features = train_features.toarray()\n",
    "vocabulary = vectorizer.get_feature_names()\n",
    "\n",
    "tic()\n",
    "from sklearn.ensemble import RandomForestClassifier\n",
    "\n",
    "# Initialize a Random Forest classifier with 100 trees\n",
    "forest_200 = RandomForestClassifier(n_estimators = 200) \n",
    "\n",
    "# Fit the forest to the training set, using the bag of words as \n",
    "# features and the sentiment labels as the response variable\n",
    "# This may take a few minutes to run\n",
    "\n",
    "forest_200 = forest_200.fit(train_features, train[\"sentiment\"])\n",
    "\n",
    "test_features = vectorizer.transform(test['reviews'])\n",
    "test_features = test_features.toarray()\n",
    "\n",
    "# Use the random forest to make sentiment label predictions\n",
    "result_200 = forest_200.predict(test_features)\n",
    "\n",
    "from sklearn.metrics import classification_report\n",
    "target_names = ['postive', 'negative']\n",
    "print(classification_report(test['sentiment'], result_200, target_names=target_names))\n",
    "\n",
    "toc()"
   ]
  },
  {
   "cell_type": "code",
   "execution_count": 10,
   "metadata": {
    "collapsed": false
   },
   "outputs": [
    {
     "name": "stdout",
     "output_type": "stream",
     "text": [
      "             precision    recall  f1-score   support\n",
      "\n",
      "    postive       0.80      0.70      0.75      6860\n",
      "   negative       0.76      0.85      0.80      7746\n",
      "\n",
      "avg / total       0.78      0.78      0.78     14606\n",
      "\n",
      "Elapsed time is 981.7485661506653 seconds.\n"
     ]
    }
   ],
   "source": [
    "# word| TfidfVectorizer|random forest 100|min_df=1\n",
    "from sklearn.feature_extraction.text import CountVectorizer,TfidfTransformer\n",
    "\n",
    "vectorizer = CountVectorizer(analyzer = \"word\" ,min_df=1)\n",
    "train_features_counts = vectorizer.fit_transform(train['reviews'])\n",
    "tfidf_transformer = TfidfTransformer()\n",
    "train_features_tfidf = tfidf_transformer.fit_transform(train_features_counts)\n",
    "train_features_tfidf = train_features_tfidf.toarray()\n",
    "\n",
    "vocabulary = vectorizer.get_feature_names()\n",
    "\n",
    "test_features_counts = vectorizer.transform(test['reviews'])\n",
    "test_features_tfidf = tfidf_transformer.transform(test_features_counts)\n",
    "test_features_tfidf = test_features_tfidf.toarray()\n",
    "tic()\n",
    "from sklearn.ensemble import RandomForestClassifier\n",
    "\n",
    "# Initialize a Random Forest classifier with 100 trees\n",
    "forest_100 = RandomForestClassifier(n_estimators = 100) \n",
    "\n",
    "\n",
    "# Fit the forest to the training set, using the bag of words as \n",
    "# features and the sentiment labels as the response variable\n",
    "#\n",
    "# This may take a few minutes to run\n",
    "forest_100_tf = forest_100.fit(train_features_tfidf, train[\"sentiment\"])\n",
    "# Use the random forest to make sentiment label predictions\n",
    "result_100_tf = forest_100_tf.predict(test_features_tfidf)\n",
    "\n",
    "from sklearn.metrics import classification_report\n",
    "target_names = ['postive', 'negative']\n",
    "print(classification_report(test['sentiment'], result_100_tf, target_names=target_names))\n",
    "\n",
    "toc()"
   ]
  },
  {
   "cell_type": "code",
   "execution_count": 11,
   "metadata": {
    "collapsed": false
   },
   "outputs": [
    {
     "name": "stdout",
     "output_type": "stream",
     "text": [
      "             precision    recall  f1-score   support\n",
      "\n",
      "    postive       0.81      0.70      0.75      6860\n",
      "   negative       0.76      0.86      0.81      7746\n",
      "\n",
      "avg / total       0.79      0.78      0.78     14606\n",
      "\n",
      "Elapsed time is 1851.3719260692596 seconds.\n"
     ]
    }
   ],
   "source": [
    "# word| TfidfVectorizer|random forest 200|min_df=1\n",
    "from sklearn.feature_extraction.text import CountVectorizer,TfidfTransformer\n",
    "\n",
    "vectorizer = CountVectorizer(analyzer = \"word\" ,min_df=1)\n",
    "train_features_counts = vectorizer.fit_transform(train['reviews'])\n",
    "tfidf_transformer = TfidfTransformer()\n",
    "train_features_tfidf = tfidf_transformer.fit_transform(train_features_counts)\n",
    "train_features_tfidf = train_features_tfidf.toarray()\n",
    "\n",
    "vocabulary = vectorizer.get_feature_names()\n",
    "\n",
    "test_features_counts = vectorizer.transform(test['reviews'])\n",
    "test_features_tfidf = tfidf_transformer.transform(test_features_counts)\n",
    "test_features_tfidf = test_features_tfidf.toarray()\n",
    "\n",
    "tic()\n",
    "from sklearn.ensemble import RandomForestClassifier\n",
    "\n",
    "# Initialize a Random Forest classifier with 100 trees\n",
    "forest_200 = RandomForestClassifier(n_estimators = 200) \n",
    "\n",
    "\n",
    "# Fit the forest to the training set, using the bag of words as \n",
    "# features and the sentiment labels as the response variable\n",
    "#\n",
    "# This may take a few minutes to run\n",
    "forest_200_tf = forest_200.fit(train_features_tfidf, train[\"sentiment\"])\n",
    "# Use the random forest to make sentiment label predictions\n",
    "result_200_tf = forest_200_tf.predict(test_features_tfidf)\n",
    "\n",
    "from sklearn.metrics import classification_report\n",
    "target_names = ['postive', 'negative']\n",
    "print(classification_report(test['sentiment'], result_200_tf, target_names=target_names))\n",
    "\n",
    "toc()"
   ]
  },
  {
   "cell_type": "markdown",
   "metadata": {},
   "source": [
    "### Trigram ngram(2,3)"
   ]
  },
  {
   "cell_type": "code",
   "execution_count": 21,
   "metadata": {
    "collapsed": true
   },
   "outputs": [],
   "source": [
    "rescue_code(bagsOfWordUnigramRF)"
   ]
  },
  {
   "cell_type": "code",
   "execution_count": null,
   "metadata": {
    "collapsed": true
   },
   "outputs": [],
   "source": [
    "def bagsOfWordUnigramRF(vect_select,tree_Num,df_min):\n",
    "    target_names = ['postive', 'negative']\n",
    "    # 1: TfidfVectorizer\n",
    "    if vect_select == 1:\n",
    "        tf_vectorizer = TfidfVectorizer(analyzer='word',min_df=df_min)\n",
    "        \n",
    "        train_features_tf = tf_vectorizer.fit_transform(train['reviews'])\n",
    "        train_features_tf = train_features_tf.toarray()\n",
    "\n",
    "\n",
    "        test_features_tf = tf_vectorizer.transform(test['reviews'])\n",
    "        test_features_tf = test_features_tf.toarray()\n",
    "         \n",
    "        print('Training..classifer...\\n')\n",
    "        tic()\n",
    "        forest = RandomForestClassifier(n_estimators = tree_Num) \n",
    "        forest_model = forest.fit(train_features_tf, train[\"sentiment\"])\n",
    "        result = forest_model.predict(test_features_tf)\n",
    "        toc()\n",
    "        \n",
    "        print('Feature extraction: tf-idf..','Random forest',(tree_Num),'..','Min df',df_min,'..\\n')\n",
    "        print(classification_report(test['sentiment'], result, target_names=target_names))\n",
    "        \n",
    "    elif vect_select == 2:\n",
    "        \n",
    "        count_vectorizer = CountVectorizer(analyzer='word',min_df=df_min)\n",
    "        \n",
    "        train_features_count = count_vectorizer.fit_transform(train['reviews'])\n",
    "        train_features_count = train_features_count.toarray()\n",
    "\n",
    "\n",
    "        test_features_count = count_vectorizer.transform(test['reviews'])\n",
    "        test_features_count = test_features_count.toarray()\n",
    "         \n",
    "        print('Training..classifer...\\n')\n",
    "        tic()\n",
    "        forest = RandomForestClassifier(n_estimators = tree_Num) \n",
    "        forest_model = forest.fit(train_features_count, train[\"sentiment\"])\n",
    "        result = forest_model.predict(test_features_count)\n",
    "        toc()\n",
    "        \n",
    "        print('Feature extraction: tf-idf..','Random forest',(tree_Num),'..','Min df',df_min,'..\\n')\n",
    "        print(classification_report(test['sentiment'], result, target_names=target_names))\n"
   ]
  },
  {
   "cell_type": "code",
   "execution_count": 9,
   "metadata": {
    "collapsed": false
   },
   "outputs": [
    {
     "name": "stdout",
     "output_type": "stream",
     "text": [
      "Training..classifer...\n",
      "\n",
      "Elapsed time is 959.305449962616 seconds.\n",
      "Feature extraction: tf-idf.. Random forest 100 .. Min df 1 ..\n",
      "\n",
      "             precision    recall  f1-score   support\n",
      "\n",
      "    postive       0.79      0.70      0.74      6860\n",
      "   negative       0.76      0.84      0.80      7746\n",
      "\n",
      "avg / total       0.78      0.77      0.77     14606\n",
      "\n"
     ]
    }
   ],
   "source": [
    "bagsOfWordUnigramRF(1,100,1)"
   ]
  },
  {
   "cell_type": "code",
   "execution_count": 10,
   "metadata": {
    "collapsed": false
   },
   "outputs": [
    {
     "name": "stdout",
     "output_type": "stream",
     "text": [
      "Training..classifer...\n",
      "\n",
      "Elapsed time is 511.7078468799591 seconds.\n",
      "Feature extraction: tf-idf.. Random forest 100 .. Min df 3 ..\n",
      "\n",
      "             precision    recall  f1-score   support\n",
      "\n",
      "    postive       0.80      0.70      0.75      6860\n",
      "   negative       0.76      0.84      0.80      7746\n",
      "\n",
      "avg / total       0.78      0.78      0.78     14606\n",
      "\n"
     ]
    }
   ],
   "source": [
    "bagsOfWordUnigramRF(1,100,3)"
   ]
  },
  {
   "cell_type": "code",
   "execution_count": 11,
   "metadata": {
    "collapsed": false
   },
   "outputs": [
    {
     "name": "stdout",
     "output_type": "stream",
     "text": [
      "Training..classifer...\n",
      "\n",
      "Elapsed time is 1819.0902960300446 seconds.\n",
      "Feature extraction: tf-idf.. Random forest 200 .. Min df 1 ..\n",
      "\n",
      "             precision    recall  f1-score   support\n",
      "\n",
      "    postive       0.81      0.70      0.75      6860\n",
      "   negative       0.76      0.86      0.81      7746\n",
      "\n",
      "avg / total       0.78      0.78      0.78     14606\n",
      "\n"
     ]
    }
   ],
   "source": [
    "bagsOfWordUnigramRF(1,200,1)"
   ]
  },
  {
   "cell_type": "code",
   "execution_count": 12,
   "metadata": {
    "collapsed": false
   },
   "outputs": [
    {
     "name": "stdout",
     "output_type": "stream",
     "text": [
      "Training..classifer...\n",
      "\n",
      "Elapsed time is 931.6544189453125 seconds.\n",
      "Feature extraction: tf-idf.. Random forest 200 .. Min df 3 ..\n",
      "\n",
      "             precision    recall  f1-score   support\n",
      "\n",
      "    postive       0.81      0.70      0.75      6860\n",
      "   negative       0.76      0.85      0.81      7746\n",
      "\n",
      "avg / total       0.79      0.78      0.78     14606\n",
      "\n"
     ]
    }
   ],
   "source": [
    "bagsOfWordUnigramRF(1,200,3)"
   ]
  },
  {
   "cell_type": "code",
   "execution_count": 8,
   "metadata": {
    "collapsed": true
   },
   "outputs": [],
   "source": [
    "from sklearn.feature_extraction.text import CountVectorizer,TfidfVectorizer\n",
    "from sklearn.ensemble import RandomForestClassifier\n",
    "from sklearn.metrics import classification_report\n",
    "\n",
    "def bagsOfWordNgramRF(tree_Num,df_min,min_gram,max_gram):\n",
    "    target_names = ['postive', 'negative']\n",
    "\n",
    "    tf_vectorizer = TfidfVectorizer(analyzer='word',min_df=df_min,ngram_range=(min_gram,max_gram))\n",
    "\n",
    "    train_features_tf = tf_vectorizer.fit_transform(train['reviews'])\n",
    "    train_features_tf = train_features_tf.toarray()\n",
    "\n",
    "\n",
    "    test_features_tf = tf_vectorizer.transform(test['reviews'])\n",
    "    test_features_tf = test_features_tf.toarray()\n",
    "\n",
    "    print('Training..classifer...\\n')\n",
    "    tic()\n",
    "    forest = RandomForestClassifier(n_estimators = tree_Num) \n",
    "    forest_model = forest.fit(train_features_tf, train[\"sentiment\"])\n",
    "    result = forest_model.predict(test_features_tf)\n",
    "    toc()\n",
    "\n",
    "    print('Feature extraction: tf-idf..','Random forest',(tree_Num),'..','Min df',df_min,'..\\n')\n",
    "    print(classification_report(test['sentiment'], result, target_names=target_names))\n"
   ]
  },
  {
   "cell_type": "code",
   "execution_count": null,
   "metadata": {
    "collapsed": false
   },
   "outputs": [
    {
     "name": "stdout",
     "output_type": "stream",
     "text": [
      "Training..classifer...\n",
      "\n"
     ]
    }
   ],
   "source": [
    "bagsOfWordNgramRF(100,3,1,2)"
   ]
  },
  {
   "cell_type": "code",
   "execution_count": null,
   "metadata": {
    "collapsed": true
   },
   "outputs": [],
   "source": []
  }
 ],
 "metadata": {
  "anaconda-cloud": {},
  "kernelspec": {
   "display_name": "Python [conda root]",
   "language": "python",
   "name": "conda-root-py"
  },
  "language_info": {
   "codemirror_mode": {
    "name": "ipython",
    "version": 3
   },
   "file_extension": ".py",
   "mimetype": "text/x-python",
   "name": "python",
   "nbconvert_exporter": "python",
   "pygments_lexer": "ipython3",
   "version": "3.5.2"
  }
 },
 "nbformat": 4,
 "nbformat_minor": 1
}
