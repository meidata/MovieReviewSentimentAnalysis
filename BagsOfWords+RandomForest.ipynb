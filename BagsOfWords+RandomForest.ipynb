{
 "cells": [
  {
   "cell_type": "code",
   "execution_count": 16,
   "metadata": {
    "collapsed": true
   },
   "outputs": [],
   "source": [
    "import re \n",
    "import csv\n",
    "import json\n",
    "import nltk\n",
    "import sklearn\n",
    "import pandas as pd\n",
    "from pprint import pprint\n",
    "from bs4 import BeautifulSoup "
   ]
  },
  {
   "cell_type": "markdown",
   "metadata": {},
   "source": [
    "\n",
    "### Read data from json file and Merge them into Pandas Data Frame\n"
   ]
  },
  {
   "cell_type": "code",
   "execution_count": 27,
   "metadata": {
    "collapsed": false
   },
   "outputs": [],
   "source": [
    "with open('drama_love_reviews_100.json') as json_data:\n",
    "    posReviewsDrama = json.load(json_data)\n",
    "    \n",
    "with open('drama_hate_reviews_100.json') as json_data:\n",
    "    negReviewsDrama = json.load(json_data)\n",
    "    \n",
    "with open('action_love_reviews_100.json') as json_data:\n",
    "    posReviewsAction = json.load(json_data)\n",
    "    \n",
    "with open('action_hate_reviews_100.json') as json_data:\n",
    "    negReviewsAction  = json.load(json_data)\n",
    "    \n",
    "with open('horror_hate_reviews_100.json') as json_data:\n",
    "    negReviewsHorror  = json.load(json_data) \n",
    "    \n",
    "with open('horror_love_reviews_100.json') as json_data:\n",
    "    posReviewsHorror  = json.load(json_data) \n",
    "    \n",
    "with open('romance_hate_reviews_100.json') as json_data:\n",
    "    negReviewsRomance  = json.load(json_data)     \n",
    "    \n",
    "with open('horror_love_reviews_100.json') as json_data:\n",
    "    posReviewsHorror  = json.load(json_data) "
   ]
  },
  {
   "cell_type": "code",
   "execution_count": 23,
   "metadata": {
    "collapsed": false
   },
   "outputs": [],
   "source": [
    "posReList = []\n",
    "for reviewlist in posReviewsDrama + posReviewsHorror + posReviewsAction:\n",
    "    if reviewlist is not None:\n",
    "        for review in reviewlist:\n",
    "            posReList.append([review['author'],review['review'],review['categorie']])\n",
    "            \n",
    "posReviews = pd.DataFrame(posReList,columns=['id', 'reviews', 'sentiment'])\n",
    "posReviews = posReviews.drop_duplicates()"
   ]
  },
  {
   "cell_type": "code",
   "execution_count": 28,
   "metadata": {
    "collapsed": false
   },
   "outputs": [],
   "source": [
    "negReList = []\n",
    "for reviewlist in  negReviewsAction + negReviewsHorror +negReviewsDrama +negReviewsRomance:\n",
    "    if reviewlist is not None:\n",
    "        for review in reviewlist:\n",
    "            negReList.append([review['author'],review['review'],review['categorie']])\n",
    "            \n",
    "negReviews = pd.DataFrame(negReList,columns=['id', 'reviews', 'sentiment'])\n",
    "negReviews = negReviews.drop_duplicates()"
   ]
  },
  {
   "cell_type": "code",
   "execution_count": 29,
   "metadata": {
    "collapsed": false
   },
   "outputs": [
    {
     "name": "stdout",
     "output_type": "stream",
     "text": [
      "(16008, 3)\n",
      "(19845, 3)\n"
     ]
    }
   ],
   "source": [
    "print(posReviews.shape)\n",
    "print(negReviews.shape)"
   ]
  },
  {
   "cell_type": "markdown",
   "metadata": {},
   "source": [
    "### Text Cleaning and Text Prepocessing\n",
    "\n",
    "+ Convert the words to lower case\n",
    "+ Remove punctuation / Remove Numbers (Any non-letters one)\n",
    "  NB: emoji could be uesd to analysis sentiment as well in the case\n",
    "+ Remove stopwords\n",
    "+ Steaming words \n",
    "+ Split the words"
   ]
  },
  {
   "cell_type": "code",
   "execution_count": 42,
   "metadata": {
    "collapsed": false
   },
   "outputs": [],
   "source": [
    "posReviews['reviews'] = posReviews['reviews'].str.lower()"
   ]
  },
  {
   "cell_type": "code",
   "execution_count": null,
   "metadata": {
    "collapsed": true
   },
   "outputs": [],
   "source": []
  }
 ],
 "metadata": {
  "anaconda-cloud": {},
  "kernelspec": {
   "display_name": "Python [conda root]",
   "language": "python",
   "name": "conda-root-py"
  },
  "language_info": {
   "codemirror_mode": {
    "name": "ipython",
    "version": 3
   },
   "file_extension": ".py",
   "mimetype": "text/x-python",
   "name": "python",
   "nbconvert_exporter": "python",
   "pygments_lexer": "ipython3",
   "version": "3.5.2"
  }
 },
 "nbformat": 4,
 "nbformat_minor": 1
}
