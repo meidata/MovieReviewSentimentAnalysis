{
 "cells": [
  {
   "cell_type": "code",
   "execution_count": 1,
   "metadata": {
    "collapsed": false
   },
   "outputs": [
    {
     "name": "stdout",
     "output_type": "stream",
     "text": [
      "train data size.. (34079, 3) ..\n",
      "\n",
      "test data size.. (14606, 3) ..\n",
      "\n",
      "all data has been imported..\n",
      "\n"
     ]
    }
   ],
   "source": [
    "import re \n",
    "import csv\n",
    "import json\n",
    "import nltk\n",
    "import sklearn\n",
    "import pandas as pd\n",
    "from pprint import pprint\n",
    "from bs4 import BeautifulSoup \n",
    "import matplotlib.pyplot as plt\n",
    "from reviewsData import * \n",
    "pd.set_option(\"display.max_colwidth\",-1)"
   ]
  },
  {
   "cell_type": "code",
   "execution_count": null,
   "metadata": {
    "collapsed": true
   },
   "outputs": [],
   "source": [
    "def bagsOfWordUnigramRF(vect_select,tree_Num,df_min):\n",
    "    target_names = ['postive', 'negative']\n",
    "    # 1: TfidfVectorizer\n",
    "    if vect_select == 1:\n",
    "        tf_vectorizer = TfidfVectorizer(analyzer='word',min_df=df_min)\n",
    "        \n",
    "        train_features_tf = tf_vectorizer.fit_transform(train['reviews'])\n",
    "        train_features_tf = train_features_tf.toarray()\n",
    "\n",
    "\n",
    "        test_features_tf = tf_vectorizer.transform(test['reviews'])\n",
    "        test_features_tf = test_features_tf.toarray()\n",
    "         \n",
    "        print('Training..classifer...\\n')\n",
    "        tic()\n",
    "        forest = RandomForestClassifier(n_estimators = tree_Num) \n",
    "        forest_model = forest.fit(train_features_tf, train[\"sentiment\"])\n",
    "        result = forest_model.predict(test_features_tf)\n",
    "        toc()\n",
    "        \n",
    "        print('Feature extraction: tf-idf..','Random forest',(tree_Num),'..','Min df',df_min,'..\\n')\n",
    "        print(classification_report(test['sentiment'], result, target_names=target_names))\n",
    "        \n",
    "    elif vect_select == 2:\n",
    "        \n",
    "        count_vectorizer = CountVectorizer(analyzer='word',min_df=df_min)\n",
    "        \n",
    "        train_features_count = count_vectorizer.fit_transform(train['reviews'])\n",
    "        train_features_count = train_features_count.toarray()\n",
    "\n",
    "\n",
    "        test_features_count = count_vectorizer.transform(test['reviews'])\n",
    "        test_features_count = test_features_count.toarray()\n",
    "         \n",
    "        print('Training..classifer...\\n')\n",
    "        tic()\n",
    "        forest = RandomForestClassifier(n_estimators = tree_Num) \n",
    "        forest_model = forest.fit(train_features_count, train[\"sentiment\"])\n",
    "        result = forest_model.predict(test_features_count)\n",
    "        toc()\n",
    "        \n",
    "        print('Feature extraction: tf-idf..','Random forest',(tree_Num),'..','Min df',df_min,'..\\n')\n",
    "        print(classification_report(test['sentiment'], result, target_names=target_names))\n"
   ]
  },
  {
   "cell_type": "code",
   "execution_count": 9,
   "metadata": {
    "collapsed": false
   },
   "outputs": [
    {
     "name": "stdout",
     "output_type": "stream",
     "text": [
      "Training..classifer...\n",
      "\n",
      "Elapsed time is 959.305449962616 seconds.\n",
      "Feature extraction: tf-idf.. Random forest 100 .. Min df 1 ..\n",
      "\n",
      "             precision    recall  f1-score   support\n",
      "\n",
      "    postive       0.79      0.70      0.74      6860\n",
      "   negative       0.76      0.84      0.80      7746\n",
      "\n",
      "avg / total       0.78      0.77      0.77     14606\n",
      "\n"
     ]
    }
   ],
   "source": [
    "bagsOfWordUnigramRF(1,100,1)"
   ]
  },
  {
   "cell_type": "code",
   "execution_count": 10,
   "metadata": {
    "collapsed": false
   },
   "outputs": [
    {
     "name": "stdout",
     "output_type": "stream",
     "text": [
      "Training..classifer...\n",
      "\n",
      "Elapsed time is 511.7078468799591 seconds.\n",
      "Feature extraction: tf-idf.. Random forest 100 .. Min df 3 ..\n",
      "\n",
      "             precision    recall  f1-score   support\n",
      "\n",
      "    postive       0.80      0.70      0.75      6860\n",
      "   negative       0.76      0.84      0.80      7746\n",
      "\n",
      "avg / total       0.78      0.78      0.78     14606\n",
      "\n"
     ]
    }
   ],
   "source": [
    "bagsOfWordUnigramRF(1,100,3)"
   ]
  },
  {
   "cell_type": "code",
   "execution_count": 11,
   "metadata": {
    "collapsed": false
   },
   "outputs": [
    {
     "name": "stdout",
     "output_type": "stream",
     "text": [
      "Training..classifer...\n",
      "\n",
      "Elapsed time is 1819.0902960300446 seconds.\n",
      "Feature extraction: tf-idf.. Random forest 200 .. Min df 1 ..\n",
      "\n",
      "             precision    recall  f1-score   support\n",
      "\n",
      "    postive       0.81      0.70      0.75      6860\n",
      "   negative       0.76      0.86      0.81      7746\n",
      "\n",
      "avg / total       0.78      0.78      0.78     14606\n",
      "\n"
     ]
    }
   ],
   "source": [
    "bagsOfWordUnigramRF(1,200,1)"
   ]
  },
  {
   "cell_type": "code",
   "execution_count": 12,
   "metadata": {
    "collapsed": false
   },
   "outputs": [
    {
     "name": "stdout",
     "output_type": "stream",
     "text": [
      "Training..classifer...\n",
      "\n",
      "Elapsed time is 931.6544189453125 seconds.\n",
      "Feature extraction: tf-idf.. Random forest 200 .. Min df 3 ..\n",
      "\n",
      "             precision    recall  f1-score   support\n",
      "\n",
      "    postive       0.81      0.70      0.75      6860\n",
      "   negative       0.76      0.85      0.81      7746\n",
      "\n",
      "avg / total       0.79      0.78      0.78     14606\n",
      "\n"
     ]
    }
   ],
   "source": [
    "bagsOfWordUnigramRF(1,200,3)"
   ]
  }
 ],
 "metadata": {
  "anaconda-cloud": {},
  "kernelspec": {
   "display_name": "Python [conda root]",
   "language": "python",
   "name": "conda-root-py"
  },
  "language_info": {
   "codemirror_mode": {
    "name": "ipython",
    "version": 3
   },
   "file_extension": ".py",
   "mimetype": "text/x-python",
   "name": "python",
   "nbconvert_exporter": "python",
   "pygments_lexer": "ipython3",
   "version": "3.5.2"
  }
 },
 "nbformat": 4,
 "nbformat_minor": 1
}
