{
 "cells": [
  {
   "cell_type": "code",
   "execution_count": 1,
   "metadata": {
    "collapsed": false
   },
   "outputs": [
    {
     "name": "stdout",
     "output_type": "stream",
     "text": [
      "train data size.. (34092, 3) ..\n",
      "\n",
      "test data size.. (14613, 3) ..\n",
      "\n",
      "all data has been imported..\n",
      "\n"
     ]
    }
   ],
   "source": [
    "import re \n",
    "import csv\n",
    "import json\n",
    "import nltk\n",
    "import sklearn\n",
    "import pandas as pd\n",
    "from pprint import pprint\n",
    "from bs4 import BeautifulSoup \n",
    "import matplotlib.pyplot as plt\n",
    "from reviewsData import * \n",
    "from sklearn.feature_extraction.text import CountVectorizer,TfidfVectorizer\n",
    "from sklearn.ensemble import RandomForestClassifier\n",
    "from sklearn.metrics import classification_report\n",
    "from sklearn.metrics import accuracy_score\n",
    "pd.set_option(\"display.max_colwidth\",-1)"
   ]
  },
  {
   "cell_type": "markdown",
   "metadata": {},
   "source": [
    "1. https://www.quantstart.com/articles/Support-Vector-Machines-A-Guide-for-Beginners\n",
    "Below is a very rough guideline of applying SVM to text classification:\n",
    "\n",
    "- Converting your texts into vector representations, i.e. numericalize texts so SVM (and most other machine learners) can be applied. This can be done quite easily using sklearn.feature_extraction.CountVectorizer/TfidfVectorizer, and you can freely select your n-gram range during vectorization along with all other options, such as stop word elimination and word document frequency thresholding\n",
    "- Performing feature selection, which is usually optional as SVM's are shown to handle feature redundancy well. However, feature selection can help shrink the learning space dimensionality and speed up training significantly. Common choices are: sklearn.feature_selection.chi2/SelectKBest, just to name a few\n",
    "- Fitting (training) an SVC to your training data. Various choices of kernels are at your disposal and for learner parameters such as C and gamma, you could leave them default for initial play around. If your goal is to obtain the best possible performance, you can use grid search (sklearn.grid_search), which tries exhaustively the parameter combinations you specify and shows you the combination that yields the best results. The grid search is usually performed on the evaluation data\n",
    "- Evaluation. After fine-tuned your learner parameters on your evaluation data, you can test your fitted SVM's performance on the testing data that's previously unseen in the training and fine-tuning stages. Alternatively, you can use n-cross validation (sklearn.cross_validation) to estimate your SVM's performance. If you have a limited amount of annotated texts, n-cross validation is recommended as it takes advantage of using all the data you have\n",
    "The following sklearn documentation is a really good example of performing text classification in the sklearn framework, which I would recommend as a starting point:"
   ]
  },
  {
   "cell_type": "markdown",
   "metadata": {},
   "source": [
    "#### One vs one one vs all SVM\n",
    "\n",
    "The most popular decomposing strategy is probably the “one against all”, which consists of building one SVM per class, trained to distinguish the samples in a single class from the samples in all remaining classes. Another popular strategy is the “one against one”, which builds one SVM for each pair of classes. "
   ]
  },
  {
   "cell_type": "markdown",
   "metadata": {},
   "source": [
    "SVMs are inherently two-class classifiers. The traditional way to do multiclass classification with SVMs is to use one of the methods discussed in Section 14.5 (page 14.5 ). In particular, the most common technique in practice has been to build   one-versus-rest classifiers (commonly referred to as one-versus-all or OVA classification), and to choose the class which classifies the test datum with greatest margin. Another strategy is to build a set of one-versus-one classifiers, and to choose the class that is selected by the most classifiers. While this involves building  classifiers, the time for training classifiers may actually decrease, since the training data set for each classifier is much smaller.up \n"
   ]
  },
  {
   "cell_type": "markdown",
   "metadata": {},
   "source": [
    "#### SVM (RBF kernel) vs SVM(Linear kernel)\n",
    "A regular SVM with default values uses a radial basis function as the SVM kernel. This is basically a Gaussian kernel aka bell-curve. Meaning that the no man's land between different classes is created with a Gaussian function. The linear-SVM uses a linear kernel for the basis function, so you can think of this as a ^ shaped function. It is much less tunable and is basically just a linear interpolation.\n",
    "\n",
    "If you used the default kernel in SVC(), the Radial Basis Function (rbf) kernel, then you probably learned a more nonlinear decision boundary. In the case of the digits dataset, this will vastly outperform a linear decision boundary on this task (see 3.1 'Baseline Linear Classifier')\n",
    "\n",
    "SVC\n",
    " + Implementation of Support Vector Machine classifier using libsvm: the kernel can be non-linear but its SMO algorithm does not scale to large number of samples as LinearSVC does. Furthermore SVC multi-class mode is implemented using one vs one scheme while LinearSVC uses one vs the rest. It is possible to implement one vs the rest with SVC by using the sklearn.multiclass.OneVsRestClassifier wrapper. Finally SVC can fit dense data without memory copy if the input is C-contiguous. Sparse data will still incur memory copy though."
   ]
  },
  {
   "cell_type": "code",
   "execution_count": 10,
   "metadata": {
    "collapsed": false
   },
   "outputs": [],
   "source": [
    "from sklearn.feature_extraction.text import CountVectorizer,TfidfVectorizer\n",
    "from sklearn.ensemble import RandomForestClassifier\n",
    "from sklearn.metrics import classification_report\n",
    "from sklearn.svm import SVC\n",
    "from sklearn.svm import LinearSVC\n",
    "\n",
    "            \n",
    "'''\n",
    "Unsupported set of arguments: The combination of penalty='l2' and loss='hinge' \n",
    "are not supported when dual=False, \n",
    "Parameters: penalty='l2', loss='hinge', dual=False\n",
    "\n",
    "'''\n",
    "\n",
    "\n",
    "def SVMclassifier(classifier,min_gram,max_gram,df_train,df_test,is_stopWords):\n",
    "    tic()\n",
    "    target_names = ['postive', 'negative']\n",
    "    \n",
    "    if is_stopWords == True:\n",
    "        tf_vectorizer = TfidfVectorizer(min_df=5, \n",
    "                                        max_df = 0.8,\n",
    "                                        sublinear_tf=True,\n",
    "                                        use_idf=True,\n",
    "                                        ngram_range=(min_gram,max_gram),\n",
    "                                        stop_words = 'english')\n",
    "        \n",
    "    elif is_stopWords == False:\n",
    "        tf_vectorizer = TfidfVectorizer(min_df=5, \n",
    "                                        max_df = 0.8,\n",
    "                                        sublinear_tf=True,\n",
    "                                        use_idf=True,\n",
    "                                        ngram_range=(min_gram,max_gram),\n",
    "                                        stop_words = None)\n",
    "\n",
    "   \n",
    "    train_vectors = tf_vectorizer.fit_transform(df_train['reviews'])\n",
    "    test_vectors = tf_vectorizer.transform(df_test['reviews'])\n",
    "    toc()\n",
    "    \n",
    "    if classifier == 'linear':\n",
    "        print('training classifier...\\n')\n",
    "        \n",
    "        tic()\n",
    "        classifier_linear = SVC(kernel='linear')\n",
    "        classifier_linear.fit(train_vectors, df_train['sentiment'])\n",
    "        prediction_linear = classifier_linear.predict(test_vectors)\n",
    "        toc()\n",
    "        print('classifier: SVM classifier with linear in libsvm, ','n-gram: ',min_gram,max_gram,'..\\n')\n",
    "        print('Accuracy score = ',accuracy_score(df_test['sentiment'], prediction_linear),'..\\n')\n",
    "        print(classification_report(df_test['sentiment'], prediction_linear , target_names=target_names))\n",
    "        \n",
    "    elif classifier == 'linearSVC':\n",
    "    \n",
    "        print('training classifier...\\n')\n",
    "       \n",
    "        if train_vectors.shape[0] > len(tf_vectorizer.get_feature_names()):\n",
    "            tic()\n",
    "            print('n_samples > n_features...\\n')\n",
    "            \n",
    "            for penalty in [\"l2\", \"l1\"]:\n",
    "                classifier_linear = LinearSVC(penalty = penalty,dual = False)\n",
    "                classifier_linear.fit(train_vectors, df_train['sentiment'])\n",
    "                prediction_linear = classifier_linear.predict(test_vectors)\n",
    "                print('classifier: SVM classifier with linearSVC, ','n-gram: ',min_gram,max_gram,'..\\n')\n",
    "                print('penalty = ',penalty,' ..\\n')\n",
    "                print('Accuracy score =',accuracy_score(df_test['sentiment'], prediction_linear),'..\\n')\n",
    "                print(classification_report(df_test['sentiment'], prediction_linear , target_names=target_names))\n",
    "            toc()\n",
    "\n",
    "        else:\n",
    "            tic()\n",
    "            \n",
    "            print('n_samples < n_features...\\n')\n",
    "\n",
    "            classifier_linear = LinearSVC(loss='hinge',dual = True,penalty = \"l2\")\n",
    "            classifier_linear.fit(train_vectors, df_train['sentiment'])\n",
    "            prediction_linear = classifier_linear.predict(test_vectors)\n",
    "\n",
    "            print('classifier: SVM classifier with linearSVC, ','n-gram: ',min_gram,max_gram,'..\\n')\n",
    "            print('loss= hinge, ','penalty = L2','..\\n')\n",
    "            print('Accuracy score',accuracy_score(df_test['sentiment'], prediction_linear))\n",
    "            print(classification_report(df_test['sentiment'], prediction_linear , target_names=target_names))\n",
    "            toc()\n",
    "\n",
    "\n",
    "          \n",
    "    elif classifier == 'rbf':\n",
    "        print('training classifier...\\n')\n",
    "        tic()\n",
    "        classifier_rbf = SVC()\n",
    "        classifier_rbf.fit(train_vectors, df_train['sentiment'])\n",
    "        prediction_rbf = classifier_rbf.predict(test_vectors)\n",
    "        toc()\n",
    "        print('classifier: SVM classifier with RBF (Gaussian), ','n-gram: ',min_gram,max_gram,'..\\n')\n",
    "        print(classification_report(df_test['sentiment'], prediction_rbf , target_names=target_names))\n",
    "        \n",
    "\n"
   ]
  },
  {
   "cell_type": "code",
   "execution_count": 17,
   "metadata": {
    "collapsed": false
   },
   "outputs": [
    {
     "name": "stdout",
     "output_type": "stream",
     "text": [
      "Elapsed time is 10.74841594696045 seconds.\n",
      "training classifier...\n",
      "\n",
      "Elapsed time is 2071.1134819984436 seconds.\n",
      "classifier: SVM classifier with RBF (Gaussian),  n-gram:  1 1 ..\n",
      "\n",
      "             precision    recall  f1-score   support\n",
      "\n",
      "    postive       0.00      0.00      0.00      6860\n",
      "   negative       0.53      1.00      0.69      7746\n",
      "\n",
      "avg / total       0.28      0.53      0.37     14606\n",
      "\n"
     ]
    },
    {
     "name": "stderr",
     "output_type": "stream",
     "text": [
      "/Users/meiyi/anaconda/lib/python3.5/site-packages/sklearn/metrics/classification.py:1113: UndefinedMetricWarning: Precision and F-score are ill-defined and being set to 0.0 in labels with no predicted samples.\n",
      "  'precision', 'predicted', average, warn_for)\n"
     ]
    }
   ],
   "source": [
    "SVMclassifier('rbf',1,1)"
   ]
  },
  {
   "cell_type": "code",
   "execution_count": 71,
   "metadata": {
    "collapsed": false
   },
   "outputs": [
    {
     "name": "stdout",
     "output_type": "stream",
     "text": [
      "Elapsed time is 11.23484492301941 seconds.\n",
      "training classifier...\n",
      "\n",
      "Elapsed time is 1734.2977738380432 seconds.\n",
      "classifier: SVM classifier with linear in libsvm,  n-gram:  1 1 ..\n",
      "\n",
      "             precision    recall  f1-score   support\n",
      "\n",
      "    postive       0.82      0.78      0.80      6860\n",
      "   negative       0.81      0.85      0.83      7746\n",
      "\n",
      "avg / total       0.81      0.81      0.81     14606\n",
      "\n"
     ]
    }
   ],
   "source": [
    "SVMclassifier('linear',1,1)"
   ]
  },
  {
   "cell_type": "code",
   "execution_count": 72,
   "metadata": {
    "collapsed": false
   },
   "outputs": [
    {
     "name": "stdout",
     "output_type": "stream",
     "text": [
      "Elapsed time is 44.69887709617615 seconds.\n",
      "training classifier...\n",
      "\n",
      "Elapsed time is 6142.636646986008 seconds.\n",
      "classifier: SVM classifier with linear in libsvm,  n-gram:  1 2 ..\n",
      "\n",
      "             precision    recall  f1-score   support\n",
      "\n",
      "    postive       0.83      0.79      0.81      6860\n",
      "   negative       0.82      0.86      0.84      7746\n",
      "\n",
      "avg / total       0.83      0.83      0.83     14606\n",
      "\n"
     ]
    }
   ],
   "source": [
    "SVMclassifier('linear',1,2)"
   ]
  },
  {
   "cell_type": "code",
   "execution_count": 83,
   "metadata": {
    "collapsed": false
   },
   "outputs": [
    {
     "name": "stdout",
     "output_type": "stream",
     "text": [
      "Elapsed time is 10.524286031723022 seconds.\n",
      "training classifier...\n",
      "\n",
      "classifier: SVM classifier with linearSVC,  n-gram:  1 1 ..\n",
      "\n",
      "loss= hinge,  penalty =  l2  ..\n",
      "\n",
      "Accuracy score 0.803779268794\n",
      "             precision    recall  f1-score   support\n",
      "\n",
      "    postive       0.80      0.78      0.79      6860\n",
      "   negative       0.81      0.82      0.82      7746\n",
      "\n",
      "avg / total       0.80      0.80      0.80     14606\n",
      "\n",
      "Elapsed time is 1.6509289741516113 seconds.\n",
      "classifier: SVM classifier with linearSVC,  n-gram:  1 1 ..\n",
      "\n",
      "loss= hinge,  penalty =  l1  ..\n",
      "\n",
      "Accuracy score 0.803984663837\n",
      "             precision    recall  f1-score   support\n",
      "\n",
      "    postive       0.80      0.78      0.79      6860\n",
      "   negative       0.81      0.82      0.82      7746\n",
      "\n",
      "avg / total       0.80      0.80      0.80     14606\n",
      "\n",
      "Elapsed time is 11.325953960418701 seconds.\n"
     ]
    }
   ],
   "source": [
    "SVMclassifier('linearSVC',1,1)"
   ]
  },
  {
   "cell_type": "code",
   "execution_count": 88,
   "metadata": {
    "collapsed": false
   },
   "outputs": [
    {
     "name": "stdout",
     "output_type": "stream",
     "text": [
      "Elapsed time is 44.704172134399414 seconds.\n",
      "training classifier...\n",
      "\n",
      "n_samples < n_features...\n",
      "\n",
      "classifier: SVM classifier with linearSVC,  n-gram:  1 2 ..\n",
      "\n",
      "loss= hinge,  penalty = L2 ..\n",
      "\n",
      "Accuracy score 0.827057373682\n",
      "             precision    recall  f1-score   support\n",
      "\n",
      "    postive       0.83      0.79      0.81      6860\n",
      "   negative       0.82      0.86      0.84      7746\n",
      "\n",
      "avg / total       0.83      0.83      0.83     14606\n",
      "\n",
      "Elapsed time is 9.51839804649353 seconds.\n"
     ]
    }
   ],
   "source": [
    "SVMclassifier('linearSVC',1,2)"
   ]
  },
  {
   "cell_type": "code",
   "execution_count": 89,
   "metadata": {
    "collapsed": false
   },
   "outputs": [
    {
     "name": "stdout",
     "output_type": "stream",
     "text": [
      "Elapsed time is 103.80285096168518 seconds.\n",
      "training classifier...\n",
      "\n",
      "n_samples < n_features...\n",
      "\n",
      "classifier: SVM classifier with linearSVC,  n-gram:  1 3 ..\n",
      "\n",
      "loss= hinge,  penalty = L2 ..\n",
      "\n",
      "Accuracy score 0.82842667397\n",
      "             precision    recall  f1-score   support\n",
      "\n",
      "    postive       0.84      0.79      0.81      6860\n",
      "   negative       0.82      0.86      0.84      7746\n",
      "\n",
      "avg / total       0.83      0.83      0.83     14606\n",
      "\n",
      "Elapsed time is 21.67465090751648 seconds.\n"
     ]
    }
   ],
   "source": [
    "SVMclassifier('linearSVC',1,3)"
   ]
  },
  {
   "cell_type": "code",
   "execution_count": 92,
   "metadata": {
    "collapsed": false
   },
   "outputs": [
    {
     "name": "stdout",
     "output_type": "stream",
     "text": [
      "Elapsed time is 11.557106971740723 seconds.\n",
      "training classifier...\n",
      "\n",
      "n_samples > n_features...\n",
      "\n",
      "classifier: SVM classifier with linearSVC,  n-gram:  1 1 ..\n",
      "\n",
      "penalty =  l2  ..\n",
      "\n",
      "Accuracy score = 0.804326988909 ..\n",
      "\n",
      "             precision    recall  f1-score   support\n",
      "\n",
      "    postive       0.80      0.78      0.79      6860\n",
      "   negative       0.81      0.83      0.82      7746\n",
      "\n",
      "avg / total       0.80      0.80      0.80     14606\n",
      "\n",
      "classifier: SVM classifier with linearSVC,  n-gram:  1 1 ..\n",
      "\n",
      "penalty =  l1  ..\n",
      "\n",
      "Accuracy score = 0.803573873751 ..\n",
      "\n",
      "             precision    recall  f1-score   support\n",
      "\n",
      "    postive       0.80      0.78      0.79      6860\n",
      "   negative       0.81      0.82      0.82      7746\n",
      "\n",
      "avg / total       0.80      0.80      0.80     14606\n",
      "\n",
      "Elapsed time is 11.602558851242065 seconds.\n"
     ]
    }
   ],
   "source": [
    "# min_df = 3\n",
    "SVMclassifier('linearSVC',1,1)"
   ]
  },
  {
   "cell_type": "code",
   "execution_count": 93,
   "metadata": {
    "collapsed": false
   },
   "outputs": [
    {
     "name": "stdout",
     "output_type": "stream",
     "text": [
      "Elapsed time is 49.5808470249176 seconds.\n",
      "training classifier...\n",
      "\n",
      "n_samples < n_features...\n",
      "\n",
      "classifier: SVM classifier with linearSVC,  n-gram:  1 2 ..\n",
      "\n",
      "loss= hinge,  penalty = L2 ..\n",
      "\n",
      "Accuracy score 0.827673558811\n",
      "             precision    recall  f1-score   support\n",
      "\n",
      "    postive       0.84      0.79      0.81      6860\n",
      "   negative       0.82      0.86      0.84      7746\n",
      "\n",
      "avg / total       0.83      0.83      0.83     14606\n",
      "\n",
      "Elapsed time is 13.24485993385315 seconds.\n"
     ]
    }
   ],
   "source": [
    "# min_df = 3\n",
    "SVMclassifier('linearSVC',1,2)"
   ]
  },
  {
   "cell_type": "code",
   "execution_count": 94,
   "metadata": {
    "collapsed": false
   },
   "outputs": [
    {
     "name": "stdout",
     "output_type": "stream",
     "text": [
      "Elapsed time is 111.77639603614807 seconds.\n",
      "training classifier...\n",
      "\n",
      "n_samples < n_features...\n",
      "\n",
      "classifier: SVM classifier with linearSVC,  n-gram:  1 3 ..\n",
      "\n",
      "loss= hinge,  penalty = L2 ..\n",
      "\n",
      "Accuracy score 0.8295221142\n",
      "             precision    recall  f1-score   support\n",
      "\n",
      "    postive       0.84      0.79      0.81      6860\n",
      "   negative       0.82      0.87      0.84      7746\n",
      "\n",
      "avg / total       0.83      0.83      0.83     14606\n",
      "\n",
      "Elapsed time is 18.18479013442993 seconds.\n"
     ]
    }
   ],
   "source": [
    "# min_df = 3 max_df = 0.5,\n",
    "SVMclassifier('linearSVC',1,3)"
   ]
  },
  {
   "cell_type": "code",
   "execution_count": 96,
   "metadata": {
    "collapsed": false
   },
   "outputs": [
    {
     "name": "stdout",
     "output_type": "stream",
     "text": [
      "Elapsed time is 11.718033075332642 seconds.\n",
      "training classifier...\n",
      "\n",
      "n_samples > n_features...\n",
      "\n",
      "classifier: SVM classifier with linearSVC,  n-gram:  1 1 ..\n",
      "\n",
      "penalty =  l2  ..\n",
      "\n",
      "Accuracy score = 0.803779268794 ..\n",
      "\n",
      "             precision    recall  f1-score   support\n",
      "\n",
      "    postive       0.80      0.78      0.79      6860\n",
      "   negative       0.81      0.83      0.82      7746\n",
      "\n",
      "avg / total       0.80      0.80      0.80     14606\n",
      "\n",
      "classifier: SVM classifier with linearSVC,  n-gram:  1 1 ..\n",
      "\n",
      "penalty =  l1  ..\n",
      "\n",
      "Accuracy score = 0.803573873751 ..\n",
      "\n",
      "             precision    recall  f1-score   support\n",
      "\n",
      "    postive       0.80      0.78      0.79      6860\n",
      "   negative       0.81      0.83      0.82      7746\n",
      "\n",
      "avg / total       0.80      0.80      0.80     14606\n",
      "\n",
      "Elapsed time is 7.638230085372925 seconds.\n"
     ]
    }
   ],
   "source": [
    "# min_df = 3 max_df = 0.5\n",
    "SVMclassifier('linearSVC',1,1)"
   ]
  },
  {
   "cell_type": "code",
   "execution_count": 97,
   "metadata": {
    "collapsed": false
   },
   "outputs": [
    {
     "name": "stdout",
     "output_type": "stream",
     "text": [
      "Elapsed time is 46.57276201248169 seconds.\n",
      "training classifier...\n",
      "\n",
      "n_samples < n_features...\n",
      "\n",
      "classifier: SVM classifier with linearSVC,  n-gram:  1 2 ..\n",
      "\n",
      "loss= hinge,  penalty = L2 ..\n",
      "\n",
      "Accuracy score 0.828152813912\n",
      "             precision    recall  f1-score   support\n",
      "\n",
      "    postive       0.84      0.79      0.81      6860\n",
      "   negative       0.82      0.86      0.84      7746\n",
      "\n",
      "avg / total       0.83      0.83      0.83     14606\n",
      "\n",
      "Elapsed time is 18.96681785583496 seconds.\n"
     ]
    }
   ],
   "source": [
    "# min_df = 3 max_df = 0.5\n",
    "SVMclassifier('linearSVC',1,2)"
   ]
  },
  {
   "cell_type": "code",
   "execution_count": 98,
   "metadata": {
    "collapsed": false
   },
   "outputs": [
    {
     "name": "stdout",
     "output_type": "stream",
     "text": [
      "Elapsed time is 107.53228497505188 seconds.\n",
      "training classifier...\n",
      "\n",
      "n_samples < n_features...\n",
      "\n",
      "classifier: SVM classifier with linearSVC,  n-gram:  1 3 ..\n",
      "\n",
      "loss= hinge,  penalty = L2 ..\n",
      "\n",
      "Accuracy score 0.82890592907\n",
      "             precision    recall  f1-score   support\n",
      "\n",
      "    postive       0.84      0.79      0.81      6860\n",
      "   negative       0.82      0.87      0.84      7746\n",
      "\n",
      "avg / total       0.83      0.83      0.83     14606\n",
      "\n",
      "Elapsed time is 12.240269899368286 seconds.\n"
     ]
    }
   ],
   "source": [
    "# min_df = 3 max_df = 0.5\n",
    "SVMclassifier('linearSVC',1,3)"
   ]
  },
  {
   "cell_type": "code",
   "execution_count": 99,
   "metadata": {
    "collapsed": false
   },
   "outputs": [
    {
     "name": "stdout",
     "output_type": "stream",
     "text": [
      "Elapsed time is 191.44429802894592 seconds.\n",
      "training classifier...\n",
      "\n",
      "n_samples < n_features...\n",
      "\n",
      "classifier: SVM classifier with linearSVC,  n-gram:  1 4 ..\n",
      "\n",
      "loss= hinge,  penalty = L2 ..\n",
      "\n",
      "Accuracy score 0.830959879502\n",
      "             precision    recall  f1-score   support\n",
      "\n",
      "    postive       0.84      0.79      0.81      6860\n",
      "   negative       0.82      0.87      0.85      7746\n",
      "\n",
      "avg / total       0.83      0.83      0.83     14606\n",
      "\n",
      "Elapsed time is 27.261303901672363 seconds.\n"
     ]
    }
   ],
   "source": [
    "# min_df = 3 max_df = 0.5\n",
    "SVMclassifier('linearSVC',1,4)"
   ]
  },
  {
   "cell_type": "code",
   "execution_count": 100,
   "metadata": {
    "collapsed": false
   },
   "outputs": [
    {
     "name": "stdout",
     "output_type": "stream",
     "text": [
      "Elapsed time is 33.74008393287659 seconds.\n",
      "training classifier...\n",
      "\n",
      "n_samples < n_features...\n",
      "\n",
      "classifier: SVM classifier with linearSVC,  n-gram:  2 2 ..\n",
      "\n",
      "loss= hinge,  penalty = L2 ..\n",
      "\n",
      "Accuracy score 0.815075996166\n",
      "             precision    recall  f1-score   support\n",
      "\n",
      "    postive       0.82      0.78      0.80      6860\n",
      "   negative       0.81      0.85      0.83      7746\n",
      "\n",
      "avg / total       0.82      0.82      0.81     14606\n",
      "\n",
      "Elapsed time is 12.600826978683472 seconds.\n"
     ]
    }
   ],
   "source": [
    "# min_df = 3 max_df = 0.5\n",
    "SVMclassifier('linearSVC',2,2)"
   ]
  },
  {
   "cell_type": "code",
   "execution_count": 4,
   "metadata": {
    "collapsed": false
   },
   "outputs": [
    {
     "name": "stdout",
     "output_type": "stream",
     "text": [
      "Elapsed time is 11.618494033813477 seconds..\n",
      "\n",
      "training classifier...\n",
      "\n",
      "n_samples > n_features...\n",
      "\n",
      "classifier: SVM classifier with linearSVC,  n-gram:  1 1 ..\n",
      "\n",
      "penalty =  l2  ..\n",
      "\n",
      "Accuracy score = 0.767685342388 ..\n",
      "\n",
      "             precision    recall  f1-score   support\n",
      "\n",
      "    postive       0.77      0.73      0.75     13340\n",
      "   negative       0.77      0.80      0.78     14932\n",
      "\n",
      "avg / total       0.77      0.77      0.77     28272\n",
      "\n",
      "classifier: SVM classifier with linearSVC,  n-gram:  1 1 ..\n",
      "\n",
      "penalty =  l1  ..\n",
      "\n",
      "Accuracy score = 0.770267402377 ..\n",
      "\n",
      "             precision    recall  f1-score   support\n",
      "\n",
      "    postive       0.77      0.73      0.75     13340\n",
      "   negative       0.77      0.80      0.79     14932\n",
      "\n",
      "avg / total       0.77      0.77      0.77     28272\n",
      "\n",
      "Elapsed time is 7.851541996002197 seconds..\n",
      "\n"
     ]
    }
   ],
   "source": [
    "# min_df = 3 max_df = 0.5 train with titles\n",
    "SVMclassifier('linearSVC',1,1,train_title,test_title)"
   ]
  },
  {
   "cell_type": "code",
   "execution_count": 6,
   "metadata": {
    "collapsed": false
   },
   "outputs": [
    {
     "name": "stdout",
     "output_type": "stream",
     "text": [
      "Elapsed time is 11.901504039764404 seconds..\n",
      "\n",
      "training classifier...\n",
      "\n",
      "n_samples > n_features...\n",
      "\n",
      "classifier: SVM classifier with linearSVC,  n-gram:  1 1 ..\n",
      "\n",
      "penalty =  l2  ..\n",
      "\n",
      "Accuracy score = 0.769347764573 ..\n",
      "\n",
      "             precision    recall  f1-score   support\n",
      "\n",
      "    postive       0.77      0.73      0.75     13340\n",
      "   negative       0.77      0.80      0.79     14932\n",
      "\n",
      "avg / total       0.77      0.77      0.77     28272\n",
      "\n",
      "classifier: SVM classifier with linearSVC,  n-gram:  1 1 ..\n",
      "\n",
      "penalty =  l1  ..\n",
      "\n",
      "Accuracy score = 0.770373514431 ..\n",
      "\n",
      "             precision    recall  f1-score   support\n",
      "\n",
      "    postive       0.77      0.73      0.75     13340\n",
      "   negative       0.77      0.80      0.79     14932\n",
      "\n",
      "avg / total       0.77      0.77      0.77     28272\n",
      "\n",
      "Elapsed time is 9.084849119186401 seconds..\n",
      "\n"
     ]
    }
   ],
   "source": [
    "# min_df = 5 max_df = 0.8 train with titles\n",
    "SVMclassifier('linearSVC',1,1,train_title,test_title)"
   ]
  },
  {
   "cell_type": "code",
   "execution_count": 7,
   "metadata": {
    "collapsed": false
   },
   "outputs": [
    {
     "name": "stdout",
     "output_type": "stream",
     "text": [
      "Elapsed time is 45.029613971710205 seconds..\n",
      "\n",
      "training classifier...\n",
      "\n",
      "n_samples < n_features...\n",
      "\n",
      "classifier: SVM classifier with linearSVC,  n-gram:  1 2 ..\n",
      "\n",
      "loss= hinge,  penalty = L2 ..\n",
      "\n",
      "Accuracy score 0.791772778721\n",
      "             precision    recall  f1-score   support\n",
      "\n",
      "    postive       0.80      0.75      0.77     13340\n",
      "   negative       0.79      0.83      0.81     14932\n",
      "\n",
      "avg / total       0.79      0.79      0.79     28272\n",
      "\n",
      "Elapsed time is 18.783468008041382 seconds..\n",
      "\n"
     ]
    }
   ],
   "source": [
    "# min_df = 5 max_df = 0.8 train with titles\n",
    "SVMclassifier('linearSVC',1,2,train_title,test_title)"
   ]
  },
  {
   "cell_type": "code",
   "execution_count": 8,
   "metadata": {
    "collapsed": false
   },
   "outputs": [
    {
     "name": "stdout",
     "output_type": "stream",
     "text": [
      "Elapsed time is 107.90247702598572 seconds..\n",
      "\n",
      "training classifier...\n",
      "\n",
      "n_samples < n_features...\n",
      "\n",
      "classifier: SVM classifier with linearSVC,  n-gram:  1 3 ..\n",
      "\n",
      "loss= hinge,  penalty = L2 ..\n",
      "\n",
      "Accuracy score 0.793824278438\n",
      "             precision    recall  f1-score   support\n",
      "\n",
      "    postive       0.80      0.75      0.77     13340\n",
      "   negative       0.79      0.84      0.81     14932\n",
      "\n",
      "avg / total       0.79      0.79      0.79     28272\n",
      "\n",
      "Elapsed time is 18.237740993499756 seconds..\n",
      "\n"
     ]
    }
   ],
   "source": [
    "# min_df = 5 max_df = 0.8 train with titles\n",
    "SVMclassifier('linearSVC',1,3,train_title,test_title)"
   ]
  },
  {
   "cell_type": "code",
   "execution_count": 5,
   "metadata": {
    "collapsed": false
   },
   "outputs": [
    {
     "name": "stdout",
     "output_type": "stream",
     "text": [
      "Elapsed time is 11.409642934799194 seconds..\n",
      "\n",
      "training classifier...\n",
      "\n",
      "n_samples > n_features...\n",
      "\n",
      "classifier: SVM classifier with linearSVC,  n-gram:  1 1 ..\n",
      "\n",
      "penalty =  l2  ..\n",
      "\n",
      "Accuracy score = 0.811195510847 ..\n",
      "\n",
      "             precision    recall  f1-score   support\n",
      "\n",
      "    postive       0.81      0.79      0.80      6862\n",
      "   negative       0.81      0.83      0.82      7751\n",
      "\n",
      "avg / total       0.81      0.81      0.81     14613\n",
      "\n",
      "classifier: SVM classifier with linearSVC,  n-gram:  1 1 ..\n",
      "\n",
      "penalty =  l1  ..\n",
      "\n",
      "Accuracy score = 0.813180045165 ..\n",
      "\n",
      "             precision    recall  f1-score   support\n",
      "\n",
      "    postive       0.81      0.79      0.80      6862\n",
      "   negative       0.82      0.84      0.83      7751\n",
      "\n",
      "avg / total       0.81      0.81      0.81     14613\n",
      "\n",
      "Elapsed time is 10.814167022705078 seconds..\n",
      "\n"
     ]
    }
   ],
   "source": [
    "# min_df = 5 max_df = 0.8 train with titles append in the text reviews\n",
    "\n",
    "SVMclassifier('linearSVC',1,1,train,test)"
   ]
  },
  {
   "cell_type": "code",
   "execution_count": 11,
   "metadata": {
    "collapsed": false
   },
   "outputs": [
    {
     "name": "stdout",
     "output_type": "stream",
     "text": [
      "Elapsed time is 9.762407064437866 seconds..\n",
      "\n",
      "training classifier...\n",
      "\n",
      "n_samples > n_features...\n",
      "\n",
      "classifier: SVM classifier with linearSVC,  n-gram:  1 1 ..\n",
      "\n",
      "penalty =  l2  ..\n",
      "\n",
      "Accuracy score = 0.805105043454 ..\n",
      "\n",
      "             precision    recall  f1-score   support\n",
      "\n",
      "    postive       0.80      0.78      0.79      6862\n",
      "   negative       0.81      0.83      0.82      7751\n",
      "\n",
      "avg / total       0.81      0.81      0.80     14613\n",
      "\n",
      "classifier: SVM classifier with linearSVC,  n-gram:  1 1 ..\n",
      "\n",
      "penalty =  l1  ..\n",
      "\n",
      "Accuracy score = 0.807089577773 ..\n",
      "\n",
      "             precision    recall  f1-score   support\n",
      "\n",
      "    postive       0.81      0.77      0.79      6862\n",
      "   negative       0.81      0.84      0.82      7751\n",
      "\n",
      "avg / total       0.81      0.81      0.81     14613\n",
      "\n",
      "Elapsed time is 6.421823024749756 seconds..\n",
      "\n"
     ]
    }
   ],
   "source": [
    "SVMclassifier('linearSVC',1,1,train,test,True)"
   ]
  },
  {
   "cell_type": "code",
   "execution_count": 6,
   "metadata": {
    "collapsed": false
   },
   "outputs": [
    {
     "name": "stdout",
     "output_type": "stream",
     "text": [
      "Elapsed time is 43.60433888435364 seconds..\n",
      "\n",
      "training classifier...\n",
      "\n",
      "n_samples < n_features...\n",
      "\n",
      "classifier: SVM classifier with linearSVC,  n-gram:  1 2 ..\n",
      "\n",
      "loss= hinge,  penalty = L2 ..\n",
      "\n",
      "Accuracy score 0.834051871621\n",
      "             precision    recall  f1-score   support\n",
      "\n",
      "    postive       0.84      0.79      0.82      6862\n",
      "   negative       0.83      0.87      0.85      7751\n",
      "\n",
      "avg / total       0.83      0.83      0.83     14613\n",
      "\n",
      "Elapsed time is 14.17465090751648 seconds..\n",
      "\n"
     ]
    }
   ],
   "source": [
    "# min_df = 5 max_df = 0.8 train with titles append in the text reviews\n",
    "SVMclassifier('linearSVC',1,2,train,test)"
   ]
  },
  {
   "cell_type": "code",
   "execution_count": 12,
   "metadata": {
    "collapsed": false
   },
   "outputs": [
    {
     "name": "stdout",
     "output_type": "stream",
     "text": [
      "Elapsed time is 32.1676549911499 seconds..\n",
      "\n",
      "training classifier...\n",
      "\n",
      "n_samples < n_features...\n",
      "\n",
      "classifier: SVM classifier with linearSVC,  n-gram:  1 2 ..\n",
      "\n",
      "loss= hinge,  penalty = L2 ..\n",
      "\n",
      "Accuracy score 0.825566276603\n",
      "             precision    recall  f1-score   support\n",
      "\n",
      "    postive       0.84      0.78      0.81      6862\n",
      "   negative       0.82      0.87      0.84      7751\n",
      "\n",
      "avg / total       0.83      0.83      0.82     14613\n",
      "\n",
      "Elapsed time is 3.766754150390625 seconds..\n",
      "\n"
     ]
    }
   ],
   "source": [
    "SVMclassifier('linearSVC',1,2,train,test,True)"
   ]
  },
  {
   "cell_type": "code",
   "execution_count": 7,
   "metadata": {
    "collapsed": false
   },
   "outputs": [
    {
     "name": "stdout",
     "output_type": "stream",
     "text": [
      "Elapsed time is 105.00203609466553 seconds..\n",
      "\n",
      "training classifier...\n",
      "\n",
      "n_samples < n_features...\n",
      "\n",
      "classifier: SVM classifier with linearSVC,  n-gram:  1 3 ..\n",
      "\n",
      "loss= hinge,  penalty = L2 ..\n",
      "\n",
      "Accuracy score 0.836789160337\n",
      "             precision    recall  f1-score   support\n",
      "\n",
      "    postive       0.85      0.79      0.82      6862\n",
      "   negative       0.83      0.88      0.85      7751\n",
      "\n",
      "avg / total       0.84      0.84      0.84     14613\n",
      "\n",
      "Elapsed time is 26.27442193031311 seconds..\n",
      "\n"
     ]
    }
   ],
   "source": [
    "# min_df = 5 max_df = 0.8 train with titles append in the text reviews\n",
    "SVMclassifier('linearSVC',1,3,train,test)"
   ]
  },
  {
   "cell_type": "code",
   "execution_count": 13,
   "metadata": {
    "collapsed": false
   },
   "outputs": [
    {
     "name": "stdout",
     "output_type": "stream",
     "text": [
      "Elapsed time is 65.4396960735321 seconds..\n",
      "\n",
      "training classifier...\n",
      "\n",
      "n_samples < n_features...\n",
      "\n",
      "classifier: SVM classifier with linearSVC,  n-gram:  1 3 ..\n",
      "\n",
      "loss= hinge,  penalty = L2 ..\n",
      "\n",
      "Accuracy score 0.824471361117\n",
      "             precision    recall  f1-score   support\n",
      "\n",
      "    postive       0.84      0.78      0.81      6862\n",
      "   negative       0.82      0.86      0.84      7751\n",
      "\n",
      "avg / total       0.83      0.82      0.82     14613\n",
      "\n",
      "Elapsed time is 3.171204090118408 seconds..\n",
      "\n"
     ]
    }
   ],
   "source": [
    "SVMclassifier('linearSVC',1,3,train,test,True)"
   ]
  },
  {
   "cell_type": "code",
   "execution_count": 9,
   "metadata": {
    "collapsed": false
   },
   "outputs": [
    {
     "name": "stdout",
     "output_type": "stream",
     "text": [
      "Elapsed time is 196.83495497703552 seconds..\n",
      "\n",
      "training classifier...\n",
      "\n",
      "n_samples < n_features...\n",
      "\n",
      "classifier: SVM classifier with linearSVC,  n-gram:  1 4 ..\n",
      "\n",
      "loss= hinge,  penalty = L2 ..\n",
      "\n",
      "Accuracy score 0.837541914733\n",
      "             precision    recall  f1-score   support\n",
      "\n",
      "    postive       0.85      0.79      0.82      6862\n",
      "   negative       0.83      0.88      0.85      7751\n",
      "\n",
      "avg / total       0.84      0.84      0.84     14613\n",
      "\n",
      "Elapsed time is 25.274889945983887 seconds..\n",
      "\n"
     ]
    }
   ],
   "source": [
    "SVMclassifier('linearSVC',1,4,train,test)"
   ]
  }
 ],
 "metadata": {
  "anaconda-cloud": {},
  "kernelspec": {
   "display_name": "Python [conda root]",
   "language": "python",
   "name": "conda-root-py"
  },
  "language_info": {
   "codemirror_mode": {
    "name": "ipython",
    "version": 3
   },
   "file_extension": ".py",
   "mimetype": "text/x-python",
   "name": "python",
   "nbconvert_exporter": "python",
   "pygments_lexer": "ipython3",
   "version": "3.5.2"
  }
 },
 "nbformat": 4,
 "nbformat_minor": 1
}
