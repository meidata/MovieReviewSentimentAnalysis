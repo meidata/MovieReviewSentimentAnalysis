{
 "cells": [
  {
   "cell_type": "code",
   "execution_count": 1,
   "metadata": {
    "collapsed": true
   },
   "outputs": [],
   "source": [
    "import re \n",
    "import csv\n",
    "import json\n",
    "import nltk\n",
    "import sklearn\n",
    "import pandas as pd\n",
    "from pprint import pprint\n",
    "from bs4 import BeautifulSoup "
   ]
  },
  {
   "cell_type": "code",
   "execution_count": 26,
   "metadata": {
    "collapsed": false
   },
   "outputs": [],
   "source": [
    "with open('drama_pos_reviews_100.json') as json_data:\n",
    "    posReviewsDrama = json.load(json_data)\n",
    "    \n",
    "with open('drama_neg_reviews_100.json') as json_data:\n",
    "    negReviewsDrama = json.load(json_data)\n",
    "    \n",
    "with open('action_love_reviews_100.json') as json_data:\n",
    "    posReviewsAction = json.load(json_data)\n",
    "    \n",
    "with open('action_hate_reviews_100.json') as json_data:\n",
    "    negReviewsAction  = json.load(json_data) "
   ]
  },
  {
   "cell_type": "code",
   "execution_count": 21,
   "metadata": {
    "collapsed": false
   },
   "outputs": [],
   "source": [
    "posReList = []\n",
    "for reviewlist in posReviewsAction + posReviewsDrama:\n",
    "    if reviewlist is not None:\n",
    "        for review in reviewlist:\n",
    "            posReList.append([review['author'],review['review'],review['categorie']])\n",
    "            \n",
    "posReviews = pd.DataFrame(posReList,columns=['id', 'reviews', 'sentiment'])"
   ]
  },
  {
   "cell_type": "code",
   "execution_count": 27,
   "metadata": {
    "collapsed": false
   },
   "outputs": [],
   "source": [
    "negReList = []\n",
    "for reviewlist in negReviewsAction + negReviewsDrama:\n",
    "    if reviewlist is not None:\n",
    "        for review in reviewlist:\n",
    "            negReList.append([review['author'],review['review'],review['categorie']])\n",
    "            \n",
    "negReviews = pd.DataFrame(negReList,columns=['id', 'reviews', 'sentiment'])"
   ]
  },
  {
   "cell_type": "code",
   "execution_count": 24,
   "metadata": {
    "collapsed": false
   },
   "outputs": [
    {
     "data": {
      "text/plain": [
       "(20564, 3)"
      ]
     },
     "execution_count": 24,
     "metadata": {},
     "output_type": "execute_result"
    }
   ],
   "source": [
    "posReviews.shape"
   ]
  },
  {
   "cell_type": "code",
   "execution_count": 28,
   "metadata": {
    "collapsed": false
   },
   "outputs": [
    {
     "data": {
      "text/plain": [
       "(20680, 3)"
      ]
     },
     "execution_count": 28,
     "metadata": {},
     "output_type": "execute_result"
    }
   ],
   "source": [
    "negReviews.shape"
   ]
  },
  {
   "cell_type": "code",
   "execution_count": null,
   "metadata": {
    "collapsed": true
   },
   "outputs": [],
   "source": []
  }
 ],
 "metadata": {
  "anaconda-cloud": {},
  "kernelspec": {
   "display_name": "Python [conda root]",
   "language": "python",
   "name": "conda-root-py"
  },
  "language_info": {
   "codemirror_mode": {
    "name": "ipython",
    "version": 3
   },
   "file_extension": ".py",
   "mimetype": "text/x-python",
   "name": "python",
   "nbconvert_exporter": "python",
   "pygments_lexer": "ipython3",
   "version": "3.5.2"
  }
 },
 "nbformat": 4,
 "nbformat_minor": 1
}
