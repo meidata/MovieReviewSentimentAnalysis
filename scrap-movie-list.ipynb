{
 "cells": [
  {
   "cell_type": "code",
   "execution_count": 1,
   "metadata": {
    "collapsed": true
   },
   "outputs": [],
   "source": [
    "from bs4 import BeautifulSoup\n",
    "import requests\n",
    "import re\n",
    "import json"
   ]
  },
  {
   "cell_type": "code",
   "execution_count": 47,
   "metadata": {
    "collapsed": false
   },
   "outputs": [],
   "source": [
    "class getMovieByGendre(object):\n",
    "    def __init__(self):\n",
    "        self.site = 'http://www.imdb.com/search/title?' \n",
    "        \n",
    "    def gendre(self,type_movie):\n",
    "\n",
    "        #type_movie could be  Action,Adventure,Animation,Biography,Comedy,Crime,Documentary,\n",
    "        #Drama,Family,Fantasy,Film-Noir,History,Horror,Music,Musical,Mystery,Romance,Sci-Fi,\n",
    "        #Short,Sport,Thriller,War,Western\n",
    "        reference_list = []\n",
    "        for i in range(0,4):\n",
    "            link = self.site + 'genres=' + type_movie + '&page='+ str(i)\n",
    "            html = requests.get(link)\n",
    "            soup = BeautifulSoup(html.text,\"html.parser\")   \n",
    "            for reference in soup.find_all(\"div\", {\"class\": \"lister-item-image float-left\"}):\n",
    "                reference_list.append(reference.find('img',alt = True).get('data-tconst'))\n",
    "        return reference_list \n",
    "        \n",
    "       "
   ]
  }
 ],
 "metadata": {
  "anaconda-cloud": {},
  "kernelspec": {
   "display_name": "Python [conda root]",
   "language": "python",
   "name": "conda-root-py"
  },
  "language_info": {
   "codemirror_mode": {
    "name": "ipython",
    "version": 3
   },
   "file_extension": ".py",
   "mimetype": "text/x-python",
   "name": "python",
   "nbconvert_exporter": "python",
   "pygments_lexer": "ipython3",
   "version": "3.5.2"
  }
 },
 "nbformat": 4,
 "nbformat_minor": 1
}
