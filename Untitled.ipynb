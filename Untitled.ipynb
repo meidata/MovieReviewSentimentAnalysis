{
 "cells": [
  {
   "cell_type": "code",
   "execution_count": 1,
   "metadata": {
    "collapsed": true
   },
   "outputs": [],
   "source": [
    "import re \n",
    "import csv\n",
    "import json\n",
    "import nltk\n",
    "import sklearn\n",
    "import pandas as pd\n",
    "from pprint import pprint\n",
    "from bs4 import BeautifulSoup \n",
    "import matplotlib.pyplot as plt\n",
    "pd.set_option(\"display.max_colwidth\",-1)\n",
    "\n",
    "\n",
    "def rescue_code(function):\n",
    "    import inspect\n",
    "    get_ipython().set_next_input(\"\".join(inspect.getsourcelines(function)[0]))\n",
    "    \n",
    "\n",
    "    \n",
    "def tic():\n",
    "    #Homemade version of matlab tic and toc functions\n",
    "    import time\n",
    "    global startTime_for_tictoc\n",
    "    startTime_for_tictoc = time.time()\n",
    "\n",
    "def toc():\n",
    "    import time\n",
    "    if 'startTime_for_tictoc' in globals():\n",
    "        print(\"Elapsed time is \" + str(time.time() - startTime_for_tictoc) + \" seconds.\")\n",
    "    else:\n",
    "        print(\"Toc: start time not set\")\n",
    "        \n",
    "        \n",
    "with open('drama_love_reviews_100.json') as json_data:\n",
    "    posReviewsDrama = json.load(json_data)\n",
    "    \n",
    "with open('drama_hate_reviews_100.json') as json_data:\n",
    "    negReviewsDrama = json.load(json_data)\n",
    "    \n",
    "with open('action_love_reviews_100.json') as json_data:\n",
    "    posReviewsAction = json.load(json_data)\n",
    "    \n",
    "with open('action_hate_reviews_100.json') as json_data:\n",
    "    negReviewsAction  = json.load(json_data)\n",
    "    \n",
    "with open('horror_hate_reviews_100.json') as json_data:\n",
    "    negReviewsHorror  = json.load(json_data) \n",
    "    \n",
    "with open('horror_love_reviews_100.json') as json_data:\n",
    "    posReviewsHorror  = json.load(json_data) \n",
    "    \n",
    "with open('romance_hate_reviews_100.json') as json_data:\n",
    "    negReviewsRomance  = json.load(json_data)     \n",
    "    \n",
    "with open('romance_love_reviews_100.json') as json_data:\n",
    "    posReviewsRomance  = json.load(json_data) \n",
    "    \n",
    "with open('Sci-Fi_love_reviews_100.json') as json_data:\n",
    "    posReviewsSci  = json.load(json_data) \n",
    "    \n",
    "with open('Sci-Fi_hate_reviews_100.json') as json_data:\n",
    "    negReviewsSci  = json.load(json_data) \n",
    "    \n",
    "    \n",
    "posReList = []\n",
    "for reviewlist in posReviewsDrama + posReviewsHorror + posReviewsAction + posReviewsSci + posReviewsRomance:\n",
    "    if reviewlist is not None:\n",
    "        for review in reviewlist:\n",
    "            posReList.append([review['review'],review['categorie']])\n",
    "            \n",
    "posReviews = pd.DataFrame(posReList,columns=['reviews', 'sentiment'])\n",
    "posReviews = posReviews.drop_duplicates()\n",
    "\n",
    "negReList = []\n",
    "for reviewlist in  negReviewsAction + negReviewsHorror +negReviewsDrama +negReviewsRomance + negReviewsSci:\n",
    "    if reviewlist is not None:\n",
    "        for review in reviewlist:\n",
    "            negReList.append([review['review'],review['categorie']])\n",
    "            \n",
    "negReviews = pd.DataFrame(negReList,columns=['reviews', 'sentiment'])\n",
    "negReviews = negReviews.drop_duplicates()\n"
   ]
  },
  {
   "cell_type": "code",
   "execution_count": 3,
   "metadata": {
    "collapsed": false
   },
   "outputs": [],
   "source": [
    "from sklearn.cross_validation import train_test_split\n",
    "\n",
    "pos_train, pos_test = train_test_split(posReviews, test_size = 0.3)\n",
    "neg_train, neg_test = train_test_split(negReviews, test_size = 0.3)\n"
   ]
  },
  {
   "cell_type": "code",
   "execution_count": 4,
   "metadata": {
    "collapsed": false
   },
   "outputs": [
    {
     "name": "stdout",
     "output_type": "stream",
     "text": [
      "(34079, 3)\n",
      "(14606, 3)\n"
     ]
    }
   ],
   "source": [
    "train = pos_train.append(neg_train, ignore_index=True)\n",
    "test = pos_test.append(neg_test, ignore_index=True)\n",
    "\n",
    "train = train.reset_index(drop=True)\n",
    "train['id'] = train.index\n",
    "\n",
    "\n",
    "test = test.reset_index(drop=True)\n",
    "test['id'] = test.index\n",
    "\n",
    "print(train.shape)\n",
    "print(test.shape)\n"
   ]
  },
  {
   "cell_type": "code",
   "execution_count": 8,
   "metadata": {
    "collapsed": true
   },
   "outputs": [],
   "source": [
    "def textPrepocess(movieReviews):\n",
    "    movieReviews = movieReviews.lower()\n",
    "    movieReviews = re.sub(\"[^a-zA-Z]\",' ',movieReviews)\n",
    "    movieReviews = (\" \".join(movieReviews.split()))\n",
    "    return movieReviews\n",
    "\n",
    "train['reviews'] = train['reviews'].apply(textPrepocess)\n",
    "test['reviews'] = test['reviews'].apply(textPrepocess)"
   ]
  },
  {
   "cell_type": "code",
   "execution_count": 10,
   "metadata": {
    "collapsed": false
   },
   "outputs": [],
   "source": [
    "from sklearn.feature_extraction.text import CountVectorizer,TfidfTransformer\n",
    "\n",
    "vectorizer = CountVectorizer(analyzer = \"word\" ,min_df=1)\n",
    "train_features_counts = vectorizer.fit_transform(train['reviews'])\n",
    "tfidf_transformer = TfidfTransformer()\n",
    "train_features_tfidf = tfidf_transformer.fit_transform(train_features_counts)\n",
    "train_features_tfidf = train_features_tfidf.toarray()\n",
    "vocabulary = vectorizer.get_feature_names()"
   ]
  },
  {
   "cell_type": "code",
   "execution_count": 17,
   "metadata": {
    "collapsed": false
   },
   "outputs": [
    {
     "ename": "NotFittedError",
     "evalue": "idf vector is not fitted",
     "output_type": "error",
     "traceback": [
      "\u001b[0;31m---------------------------------------------------------------------------\u001b[0m",
      "\u001b[0;31mNotFittedError\u001b[0m                            Traceback (most recent call last)",
      "\u001b[0;32m<ipython-input-17-34dd02be3f23>\u001b[0m in \u001b[0;36m<module>\u001b[0;34m()\u001b[0m\n\u001b[1;32m      8\u001b[0m \u001b[0mtest_features_counts\u001b[0m \u001b[0;34m=\u001b[0m \u001b[0mvectorizer\u001b[0m\u001b[0;34m.\u001b[0m\u001b[0mtransform\u001b[0m\u001b[0;34m(\u001b[0m\u001b[0mtest\u001b[0m\u001b[0;34m[\u001b[0m\u001b[0;34m'reviews'\u001b[0m\u001b[0;34m]\u001b[0m\u001b[0;34m)\u001b[0m\u001b[0;34m\u001b[0m\u001b[0m\n\u001b[1;32m      9\u001b[0m \u001b[0mtfidf_transformer\u001b[0m \u001b[0;34m=\u001b[0m \u001b[0mTfidfTransformer\u001b[0m\u001b[0;34m(\u001b[0m\u001b[0;34m)\u001b[0m\u001b[0;34m\u001b[0m\u001b[0m\n\u001b[0;32m---> 10\u001b[0;31m \u001b[0mtest_features_tfidf\u001b[0m \u001b[0;34m=\u001b[0m \u001b[0mtfidf_transformer\u001b[0m\u001b[0;34m.\u001b[0m\u001b[0mtransform\u001b[0m\u001b[0;34m(\u001b[0m\u001b[0mtest_features_counts\u001b[0m\u001b[0;34m)\u001b[0m\u001b[0;34m\u001b[0m\u001b[0m\n\u001b[0m\u001b[1;32m     11\u001b[0m \u001b[0mtest_features_tfidf\u001b[0m \u001b[0;34m=\u001b[0m \u001b[0mtest_features_tfidf\u001b[0m\u001b[0;34m.\u001b[0m\u001b[0mtoarray\u001b[0m\u001b[0;34m(\u001b[0m\u001b[0;34m)\u001b[0m\u001b[0;34m\u001b[0m\u001b[0m\n\u001b[1;32m     12\u001b[0m \u001b[0;34m\u001b[0m\u001b[0m\n",
      "\u001b[0;32m/Users/meiyi/anaconda/lib/python3.5/site-packages/sklearn/feature_extraction/text.py\u001b[0m in \u001b[0;36mtransform\u001b[0;34m(self, X, copy)\u001b[0m\n\u001b[1;32m   1071\u001b[0m \u001b[0;34m\u001b[0m\u001b[0m\n\u001b[1;32m   1072\u001b[0m         \u001b[0;32mif\u001b[0m \u001b[0mself\u001b[0m\u001b[0;34m.\u001b[0m\u001b[0muse_idf\u001b[0m\u001b[0;34m:\u001b[0m\u001b[0;34m\u001b[0m\u001b[0m\n\u001b[0;32m-> 1073\u001b[0;31m             \u001b[0mcheck_is_fitted\u001b[0m\u001b[0;34m(\u001b[0m\u001b[0mself\u001b[0m\u001b[0;34m,\u001b[0m \u001b[0;34m'_idf_diag'\u001b[0m\u001b[0;34m,\u001b[0m \u001b[0;34m'idf vector is not fitted'\u001b[0m\u001b[0;34m)\u001b[0m\u001b[0;34m\u001b[0m\u001b[0m\n\u001b[0m\u001b[1;32m   1074\u001b[0m \u001b[0;34m\u001b[0m\u001b[0m\n\u001b[1;32m   1075\u001b[0m             \u001b[0mexpected_n_features\u001b[0m \u001b[0;34m=\u001b[0m \u001b[0mself\u001b[0m\u001b[0;34m.\u001b[0m\u001b[0m_idf_diag\u001b[0m\u001b[0;34m.\u001b[0m\u001b[0mshape\u001b[0m\u001b[0;34m[\u001b[0m\u001b[0;36m0\u001b[0m\u001b[0;34m]\u001b[0m\u001b[0;34m\u001b[0m\u001b[0m\n",
      "\u001b[0;32m/Users/meiyi/anaconda/lib/python3.5/site-packages/sklearn/utils/validation.py\u001b[0m in \u001b[0;36mcheck_is_fitted\u001b[0;34m(estimator, attributes, msg, all_or_any)\u001b[0m\n\u001b[1;32m    688\u001b[0m     \u001b[0;32mif\u001b[0m \u001b[0;32mnot\u001b[0m \u001b[0mall_or_any\u001b[0m\u001b[0;34m(\u001b[0m\u001b[0;34m[\u001b[0m\u001b[0mhasattr\u001b[0m\u001b[0;34m(\u001b[0m\u001b[0mestimator\u001b[0m\u001b[0;34m,\u001b[0m \u001b[0mattr\u001b[0m\u001b[0;34m)\u001b[0m \u001b[0;32mfor\u001b[0m \u001b[0mattr\u001b[0m \u001b[0;32min\u001b[0m \u001b[0mattributes\u001b[0m\u001b[0;34m]\u001b[0m\u001b[0;34m)\u001b[0m\u001b[0;34m:\u001b[0m\u001b[0;34m\u001b[0m\u001b[0m\n\u001b[1;32m    689\u001b[0m         \u001b[0;31m# FIXME NotFittedError_ --> NotFittedError in 0.19\u001b[0m\u001b[0;34m\u001b[0m\u001b[0;34m\u001b[0m\u001b[0m\n\u001b[0;32m--> 690\u001b[0;31m         \u001b[0;32mraise\u001b[0m \u001b[0m_NotFittedError\u001b[0m\u001b[0;34m(\u001b[0m\u001b[0mmsg\u001b[0m \u001b[0;34m%\u001b[0m \u001b[0;34m{\u001b[0m\u001b[0;34m'name'\u001b[0m\u001b[0;34m:\u001b[0m \u001b[0mtype\u001b[0m\u001b[0;34m(\u001b[0m\u001b[0mestimator\u001b[0m\u001b[0;34m)\u001b[0m\u001b[0;34m.\u001b[0m\u001b[0m__name__\u001b[0m\u001b[0;34m}\u001b[0m\u001b[0;34m)\u001b[0m\u001b[0;34m\u001b[0m\u001b[0m\n\u001b[0m\u001b[1;32m    691\u001b[0m \u001b[0;34m\u001b[0m\u001b[0m\n\u001b[1;32m    692\u001b[0m \u001b[0;34m\u001b[0m\u001b[0m\n",
      "\u001b[0;31mNotFittedError\u001b[0m: idf vector is not fitted"
     ]
    }
   ],
   "source": [
    "\n",
    "tic()\n",
    "from sklearn.ensemble import RandomForestClassifier\n",
    "\n",
    "# Initialize a Random Forest classifier with 100 trees\n",
    "forest_100 = RandomForestClassifier(n_estimators = 100) \n",
    "\n",
    "test_features_counts = vectorizer.transform(test['reviews'])\n",
    "tfidf_transformer = TfidfTransformer()\n",
    "test_features_tfidf = tfidf_transformer.transform(test_features_counts)\n",
    "test_features_tfidf = test_features_tfidf.toarray()\n",
    "\n",
    "# Use the random forest to make sentiment label predictions\n",
    "# Fit the forest to the training set, using the bag of words as \n",
    "# features and the sentiment labels as the response variable\n",
    "#\n",
    "# This may take a few minutes to run\n",
    "forest_100 = forest_100.fit(train_features_tfidf, train[\"sentiment\"])\n",
    "result = forest_100.predict(test_features_tfidf)\n",
    "\n",
    "toc()"
   ]
  },
  {
   "cell_type": "code",
   "execution_count": null,
   "metadata": {
    "collapsed": true
   },
   "outputs": [],
   "source": [
    "from sklearn.metrics import classification_report\n",
    "\n",
    "target_names = ['postive', 'negative']\n",
    "print(classification_report(test['sentiment'], result, target_names=target_names))\n"
   ]
  }
 ],
 "metadata": {
  "kernelspec": {
   "display_name": "Python [conda root]",
   "language": "python",
   "name": "conda-root-py"
  },
  "language_info": {
   "codemirror_mode": {
    "name": "ipython",
    "version": 3
   },
   "file_extension": ".py",
   "mimetype": "text/x-python",
   "name": "python",
   "nbconvert_exporter": "python",
   "pygments_lexer": "ipython3",
   "version": "3.5.2"
  }
 },
 "nbformat": 4,
 "nbformat_minor": 1
}
